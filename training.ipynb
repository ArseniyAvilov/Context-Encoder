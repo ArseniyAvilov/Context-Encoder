{
 "cells": [
  {
   "cell_type": "code",
   "execution_count": 1,
   "metadata": {
    "execution": {
     "iopub.execute_input": "2021-07-12T09:42:45.576726Z",
     "iopub.status.busy": "2021-07-12T09:42:45.576364Z",
     "iopub.status.idle": "2021-07-12T09:42:47.016844Z",
     "shell.execute_reply": "2021-07-12T09:42:47.015889Z",
     "shell.execute_reply.started": "2021-07-12T09:42:45.576693Z"
    }
   },
   "outputs": [],
   "source": [
    "import numpy as np\n",
    "import os, math, sys\n",
    "import glob\n",
    "import random\n",
    "\n",
    "import torch\n",
    "import torch.nn as nn\n",
    "from torch.autograd import Variable\n",
    "import torchvision.transforms as transforms\n",
    "from torch.utils.data import DataLoader, Dataset, ConcatDataset\n",
    "from torchvision.utils import save_image, make_grid\n",
    "\n",
    "import matplotlib.pyplot as plt\n",
    "\n",
    "from PIL import Image\n",
    "from tqdm import tqdm_notebook as tqdm\n",
    "\n",
    "random.seed(42)\n",
    "import warnings\n",
    "warnings.filterwarnings(\"ignore\")"
   ]
  },
  {
   "cell_type": "code",
   "execution_count": 2,
   "metadata": {
    "execution": {
     "iopub.execute_input": "2021-07-12T09:42:47.024015Z",
     "iopub.status.busy": "2021-07-12T09:42:47.021849Z",
     "iopub.status.idle": "2021-07-12T09:42:47.033783Z",
     "shell.execute_reply": "2021-07-12T09:42:47.032831Z",
     "shell.execute_reply.started": "2021-07-12T09:42:47.023973Z"
    }
   },
   "outputs": [],
   "source": [
    "# number of epochs of training\n",
    "n_epochs = 200\n",
    "# size of the batches\n",
    "batch_size = 64\n",
    "# name of the dataset\n",
    "dataset_name = \"val_256/\"\n",
    "# adam: learning rate\n",
    "lr = 0.0002\n",
    "# adam: decay of first order momentum of gradient\n",
    "b1 = 0.5\n",
    "# adam: decay of first order momentum of gradient\n",
    "b2 = 0.999\n",
    "# number of cpu threads to use during batch generation\n",
    "n_cpu = 8\n",
    "# size of each image dimension\n",
    "img_size = 128\n",
    "# size of random mask\n",
    "mask_size = 16\n",
    "# number of image channels\n",
    "channels = 3\n",
    "\n",
    "# Calculate output dims of image discriminator (PatchGAN)\n",
    "patch_h, patch_w = int(mask_size / 2 ** 3), int(mask_size / 2 ** 3)\n",
    "patch = (1, patch_h, patch_w)"
   ]
  },
  {
   "cell_type": "markdown",
   "metadata": {},
   "source": [
    "### Define Dataset Class"
   ]
  },
  {
   "cell_type": "code",
   "execution_count": 3,
   "metadata": {
    "execution": {
     "iopub.execute_input": "2021-07-12T09:42:50.319809Z",
     "iopub.status.busy": "2021-07-12T09:42:50.319390Z",
     "iopub.status.idle": "2021-07-12T09:42:50.340342Z",
     "shell.execute_reply": "2021-07-12T09:42:50.339345Z",
     "shell.execute_reply.started": "2021-07-12T09:42:50.319761Z"
    }
   },
   "outputs": [],
   "source": [
    "class ImageDataset(Dataset):\n",
    "    def __init__(self, root, transforms_=None, img_size=128, mask_size=16, mode=\"train\"):\n",
    "        self.transform = transforms.Compose(transforms_)\n",
    "        self.img_size = img_size\n",
    "        self.mask_size = mask_size\n",
    "        self.mode = mode\n",
    "        self.files = sorted(glob.glob(\"%s/*.jpg\" % root))\n",
    "        # self.files = self.files[:-4000] if mode == \"train\" else self.files[-4000:]\n",
    "\n",
    "    def apply_random_mask(self, img):\n",
    "        \"\"\"Randomly masks image\"\"\"\n",
    "        y1, x1 = np.random.randint(0, self.img_size - self.mask_size, 2)\n",
    "        y2, x2 = y1 + self.mask_size, x1 + self.mask_size\n",
    "        masked_part = img[:, y1:y2, x1:x2]\n",
    "        masked_img = img.clone()\n",
    "        masked_img[:, y1:y2, x1:x2] = 1\n",
    "\n",
    "        return masked_img, masked_part\n",
    "\n",
    "    def __getitem__(self, index):\n",
    "\n",
    "        img = Image.open(self.files[index % len(self.files)])\n",
    "        img = self.transform(img)\n",
    "        if int(transforms.ToTensor()(img).shape[0]) == 1:\n",
    "            img = transforms.Grayscale(num_output_channels=3)(img)\n",
    "        \n",
    "        img = transforms.Compose([transforms.ToTensor(),\n",
    "                                  transforms.Normalize((0.5, 0.5, 0.5), (0.5, 0.5, 0.5)),])(img)\n",
    "\n",
    "        masked_img, aux = self.apply_random_mask(img)\n",
    "\n",
    "        return img, masked_img, aux\n",
    "\n",
    "    def __len__(self):\n",
    "        return len(self.files)"
   ]
  },
  {
   "cell_type": "code",
   "execution_count": 4,
   "metadata": {
    "execution": {
     "iopub.execute_input": "2021-07-12T09:42:50.717537Z",
     "iopub.status.busy": "2021-07-12T09:42:50.716968Z",
     "iopub.status.idle": "2021-07-12T09:42:52.116752Z",
     "shell.execute_reply": "2021-07-12T09:42:52.115804Z",
     "shell.execute_reply.started": "2021-07-12T09:42:50.717493Z"
    }
   },
   "outputs": [],
   "source": [
    "transform = [\n",
    "     transforms.Resize((128, 128)),\n",
    "     transforms.ColorJitter(hue=.50, saturation=.50),\n",
    "     transforms.RandomHorizontalFlip(p=0.5),\n",
    "     transforms.RandomVerticalFlip(p=0.5),\n",
    "     ]\n",
    "os.makedirs(\"aug_data\", exist_ok=True)\n",
    "augmentation_data = ImageDataset(dataset_name, transforms_=transform)"
   ]
  },
  {
   "cell_type": "code",
   "execution_count": 5,
   "metadata": {
    "execution": {
     "iopub.execute_input": "2021-07-12T09:42:52.119911Z",
     "iopub.status.busy": "2021-07-12T09:42:52.119361Z",
     "iopub.status.idle": "2021-07-12T09:42:52.257927Z",
     "shell.execute_reply": "2021-07-12T09:42:52.257231Z",
     "shell.execute_reply.started": "2021-07-12T09:42:52.119872Z"
    }
   },
   "outputs": [],
   "source": [
    "transform = [\n",
    "     transforms.Resize((128, 128)),\n",
    "     transforms.ColorJitter(hue=.20, saturation=.20),\n",
    "     transforms.RandomHorizontalFlip(p=0.5),\n",
    "     transforms.RandomVerticalFlip(p=0.5),\n",
    "     ]\n",
    "os.makedirs(\"aug_data\", exist_ok=True)\n",
    "augmentation_data_1 = ImageDataset(dataset_name, transforms_=transform)"
   ]
  },
  {
   "cell_type": "markdown",
   "metadata": {},
   "source": [
    "### Get Train/Test Dataloaders"
   ]
  },
  {
   "cell_type": "code",
   "execution_count": 6,
   "metadata": {
    "execution": {
     "iopub.execute_input": "2021-07-12T09:42:52.259901Z",
     "iopub.status.busy": "2021-07-12T09:42:52.259409Z",
     "iopub.status.idle": "2021-07-12T09:42:52.397421Z",
     "shell.execute_reply": "2021-07-12T09:42:52.396696Z",
     "shell.execute_reply.started": "2021-07-12T09:42:52.259863Z"
    }
   },
   "outputs": [],
   "source": [
    "transforms_ = [\n",
    "    transforms.Resize((img_size, img_size), Image.BICUBIC),\n",
    "    #transforms.ToTensor(),\n",
    "    #transforms.Normalize((0.5, 0.5, 0.5), (0.5, 0.5, 0.5)),\n",
    "]\n",
    "\n",
    "dataloader = DataLoader(\n",
    "    ConcatDataset([ImageDataset(dataset_name, transforms_=transforms_),augmentation_data_1, augmentation_data]),\n",
    "    batch_size=batch_size,\n",
    "    shuffle=True,\n",
    "    num_workers=n_cpu,\n",
    ")"
   ]
  },
  {
   "cell_type": "markdown",
   "metadata": {},
   "source": [
    "<h3><center>Model Architecture</center></h3>\n",
    "<img src=\"https://miro.medium.com/max/700/1*fJpamgw0yBZZRNEuex07hw.png\" width=\"1000\" height=\"1000\"/>\n",
    "<h4></h4>\n",
    "<h4><center>Image Source:  <a href=\"https://arxiv.org/abs/1609.04802\">Context Encoders: Feature Learning by Inpainting [Deepak Pathak et al.]</a></center></h4>"
   ]
  },
  {
   "cell_type": "code",
   "execution_count": 7,
   "metadata": {
    "execution": {
     "iopub.execute_input": "2021-07-12T09:42:52.539116Z",
     "iopub.status.busy": "2021-07-12T09:42:52.538824Z",
     "iopub.status.idle": "2021-07-12T09:42:52.561119Z",
     "shell.execute_reply": "2021-07-12T09:42:52.560354Z",
     "shell.execute_reply.started": "2021-07-12T09:42:52.539086Z"
    }
   },
   "outputs": [],
   "source": [
    "class Generator(nn.Module):\n",
    "    def __init__(self, channels=3):\n",
    "        super(Generator, self).__init__()\n",
    "\n",
    "        def encoder(in_feat, out_feat, normalize=True):\n",
    "            layers = [nn.Conv2d(in_feat, out_feat, 4, stride=2, padding=1)]\n",
    "            if normalize:\n",
    "                layers.append(nn.BatchNorm2d(out_feat, 0.8))\n",
    "            layers.append(nn.LeakyReLU(0.2))\n",
    "            return layers\n",
    "\n",
    "        def decoder(in_feat, out_feat, normalize=True):\n",
    "            layers = [nn.ConvTranspose2d(in_feat, out_feat, 4, stride=2, padding=1)]\n",
    "            if normalize:\n",
    "                layers.append(nn.BatchNorm2d(out_feat, 0.8))\n",
    "            layers.append(nn.ReLU())\n",
    "            return layers\n",
    "\n",
    "        self.model = nn.Sequential(\n",
    "            *encoder(channels, 64, normalize=False),\n",
    "            *encoder(64, 64),\n",
    "            *encoder(64, 128),\n",
    "            *encoder(128, 256),\n",
    "            *encoder(256, 512),\n",
    "            nn.Conv2d(512, 4000, 1),\n",
    "            *decoder(4000, 512),\n",
    "            *decoder(512, 256),\n",
    "            *decoder(256, 128),\n",
    "            *decoder(128, 64),\n",
    "            nn.Conv2d(64, 32, 4, stride=2, padding=1),\n",
    "            nn.BatchNorm2d(32, 0.8),\n",
    "            nn.ReLU(),\n",
    "            nn.Conv2d(32, 16, 4, stride=2, padding=1),\n",
    "            nn.BatchNorm2d(16, 0.8),\n",
    "            nn.Conv2d(16, 3, 3, 1, 1),\n",
    "            nn.Tanh()\n",
    "        )\n",
    "    def forward(self, x):\n",
    "        return self.model(x)\n",
    "    \n",
    "\n",
    "class Discriminator(nn.Module):\n",
    "    def __init__(self, channels=3):\n",
    "        super(Discriminator, self).__init__()\n",
    "\n",
    "        def discriminator_block(in_filters, out_filters, stride, normalize):\n",
    "            layers = [nn.Conv2d(in_filters, out_filters, 3, stride, 1)]\n",
    "            if normalize:\n",
    "                layers.append(nn.InstanceNorm2d(out_filters))\n",
    "            layers.append(nn.LeakyReLU(0.2, inplace=True))\n",
    "            return layers\n",
    "\n",
    "        self.model = nn.Sequential(*discriminator_block(channels, 16, 2, False),\n",
    "                                   *discriminator_block(16, 128, 2, True),\n",
    "                                   *discriminator_block(128, 256, 2, True),\n",
    "                                   *discriminator_block(256, 512, 1, True),\n",
    "                                   nn.Conv2d(512, 1, 3, 1, 1))\n",
    "\n",
    "    def forward(self, img):\n",
    "        return self.model(img)"
   ]
  },
  {
   "cell_type": "code",
   "execution_count": 8,
   "metadata": {
    "execution": {
     "iopub.execute_input": "2021-07-12T09:42:52.931772Z",
     "iopub.status.busy": "2021-07-12T09:42:52.931447Z",
     "iopub.status.idle": "2021-07-12T09:42:52.939263Z",
     "shell.execute_reply": "2021-07-12T09:42:52.938230Z",
     "shell.execute_reply.started": "2021-07-12T09:42:52.931740Z"
    }
   },
   "outputs": [
    {
     "data": {
      "text/plain": [
       "1711"
      ]
     },
     "execution_count": 8,
     "metadata": {},
     "output_type": "execute_result"
    }
   ],
   "source": [
    "len(dataloader)"
   ]
  },
  {
   "cell_type": "markdown",
   "metadata": {},
   "source": [
    "### Train Context-Encoder GAN"
   ]
  },
  {
   "cell_type": "code",
   "execution_count": 9,
   "metadata": {
    "execution": {
     "iopub.execute_input": "2021-07-12T09:42:53.972186Z",
     "iopub.status.busy": "2021-07-12T09:42:53.971646Z",
     "iopub.status.idle": "2021-07-12T09:42:58.124504Z",
     "shell.execute_reply": "2021-07-12T09:42:58.123703Z",
     "shell.execute_reply.started": "2021-07-12T09:42:53.972124Z"
    }
   },
   "outputs": [],
   "source": [
    "def weights_init_normal(m):\n",
    "    classname = m.__class__.__name__\n",
    "    if classname.find(\"Conv\") != -1:\n",
    "        torch.nn.init.normal_(m.weight.data, 0.0, 0.02)\n",
    "    elif classname.find(\"BatchNorm2d\") != -1:\n",
    "        torch.nn.init.normal_(m.weight.data, 1.0, 0.02)\n",
    "        torch.nn.init.constant_(m.bias.data, 0.0)\n",
    "    \n",
    "# Loss function\n",
    "adversarial_loss = torch.nn.MSELoss()\n",
    "pixelwise_loss = torch.nn.L1Loss()\n",
    "\n",
    "# Initialize generator and discriminator\n",
    "generator = Generator(channels=channels)\n",
    "discriminator = Discriminator(channels=channels)\n",
    "\n",
    "# Load pretrained models\n",
    "#generator.load_state_dict(torch.load(\"generator.pth\"))\n",
    "#discriminator.load_state_dict(torch.load(\"discriminator.pth\"))\n",
    "# print(\"Using pre-trained Context-Encoder GAN model!\")\n",
    "\n",
    "generator.cuda()\n",
    "discriminator.cuda()\n",
    "adversarial_loss.cuda()\n",
    "pixelwise_loss.cuda()\n",
    "\n",
    "# Initialize weights\n",
    "generator.apply(weights_init_normal)\n",
    "discriminator.apply(weights_init_normal)\n",
    "\n",
    "# Optimizers\n",
    "optimizer_G = torch.optim.Adam(generator.parameters(), lr=lr, betas=(b1, b2))\n",
    "optimizer_D = torch.optim.Adam(discriminator.parameters(), lr=lr, betas=(b1, b2))\n",
    "\n",
    "Tensor = torch.cuda.FloatTensor"
   ]
  },
  {
   "cell_type": "code",
   "execution_count": 10,
   "metadata": {},
   "outputs": [
    {
     "name": "stdout",
     "output_type": "stream",
     "text": [
      "Tue Jul 13 07:48:06 2021       \n",
      "+-----------------------------------------------------------------------------+\n",
      "| NVIDIA-SMI 470.42.01    Driver Version: 470.42.01    CUDA Version: 11.4     |\n",
      "|-------------------------------+----------------------+----------------------+\n",
      "| GPU  Name        Persistence-M| Bus-Id        Disp.A | Volatile Uncorr. ECC |\n",
      "| Fan  Temp  Perf  Pwr:Usage/Cap|         Memory-Usage | GPU-Util  Compute M. |\n",
      "|                               |                      |               MIG M. |\n",
      "|===============================+======================+======================|\n",
      "|   0  NVIDIA GeForce ...  On   | 00000000:04:00.0  On |                  N/A |\n",
      "| 31%   54C    P2    31W / 200W |   4816MiB /  6073MiB |     19%      Default |\n",
      "|                               |                      |                  N/A |\n",
      "+-------------------------------+----------------------+----------------------+\n",
      "                                                                               \n",
      "+-----------------------------------------------------------------------------+\n",
      "| Processes:                                                                  |\n",
      "|  GPU   GI   CI        PID   Type   Process name                  GPU Memory |\n",
      "|        ID   ID                                                   Usage      |\n",
      "|=============================================================================|\n",
      "|    0   N/A  N/A      1091      G   /usr/lib/xorg/Xorg                286MiB |\n",
      "|    0   N/A  N/A      1333      G   /usr/bin/gnome-shell               52MiB |\n",
      "|    0   N/A  N/A      2178      G   /usr/lib/firefox/firefox          221MiB |\n",
      "|    0   N/A  N/A      2438      G   /usr/lib/firefox/firefox            1MiB |\n",
      "|    0   N/A  N/A      2576      G   /usr/lib/firefox/firefox            1MiB |\n",
      "|    0   N/A  N/A      2633      G   /usr/lib/firefox/firefox            1MiB |\n",
      "|    0   N/A  N/A      2745      G   /usr/lib/firefox/firefox            1MiB |\n",
      "|    0   N/A  N/A      3195      G   /usr/lib/firefox/firefox            1MiB |\n",
      "|    0   N/A  N/A      3243      G   /usr/lib/firefox/firefox            1MiB |\n",
      "|    0   N/A  N/A      3328      G   /usr/lib/firefox/firefox            1MiB |\n",
      "|    0   N/A  N/A      4269      G   /usr/lib/firefox/firefox            1MiB |\n",
      "|    0   N/A  N/A      4363      G   telegram-desktop                    1MiB |\n",
      "|    0   N/A  N/A      5060      C   ...ntxt_encd_env/bin/python3     2405MiB |\n",
      "|    0   N/A  N/A     21946      C   ...ntxt_encd_env/bin/python3      915MiB |\n",
      "|    0   N/A  N/A     24508      C   ...ntxt_encd_env/bin/python3      915MiB |\n",
      "+-----------------------------------------------------------------------------+\n"
     ]
    }
   ],
   "source": [
    "!nvidia-smi"
   ]
  },
  {
   "cell_type": "code",
   "execution_count": 11,
   "metadata": {},
   "outputs": [],
   "source": [
    "from torch.utils.tensorboard import SummaryWriter\n",
    "writer = SummaryWriter('runs/context_encoder')\n",
    "os.makedirs(\"saved_models\", exist_ok=True)\n"
   ]
  },
  {
   "cell_type": "code",
   "execution_count": null,
   "metadata": {
    "execution": {
     "iopub.execute_input": "2021-07-12T09:42:58.126437Z",
     "iopub.status.busy": "2021-07-12T09:42:58.126120Z"
    }
   },
   "outputs": [
    {
     "data": {
      "application/vnd.jupyter.widget-view+json": {
       "model_id": "c6aba171293c44268e9eda13f9297e25",
       "version_major": 2,
       "version_minor": 0
      },
      "text/plain": [
       "Training Epoch 0 :   0%|          | 0/1711 [00:00<?, ?it/s]"
      ]
     },
     "metadata": {},
     "output_type": "display_data"
    },
    {
     "data": {
      "application/vnd.jupyter.widget-view+json": {
       "model_id": "21615d28025e4db28fe608e513a0923b",
       "version_major": 2,
       "version_minor": 0
      },
      "text/plain": [
       "Training Epoch 1 :   0%|          | 0/1711 [00:00<?, ?it/s]"
      ]
     },
     "metadata": {},
     "output_type": "display_data"
    },
    {
     "data": {
      "application/vnd.jupyter.widget-view+json": {
       "model_id": "68a54f83046d4db29a562b73418f6d06",
       "version_major": 2,
       "version_minor": 0
      },
      "text/plain": [
       "Training Epoch 2 :   0%|          | 0/1711 [00:00<?, ?it/s]"
      ]
     },
     "metadata": {},
     "output_type": "display_data"
    },
    {
     "data": {
      "application/vnd.jupyter.widget-view+json": {
       "model_id": "adf98d81d05a4d1d8e1d6eb17350c5fa",
       "version_major": 2,
       "version_minor": 0
      },
      "text/plain": [
       "Training Epoch 3 :   0%|          | 0/1711 [00:00<?, ?it/s]"
      ]
     },
     "metadata": {},
     "output_type": "display_data"
    },
    {
     "data": {
      "application/vnd.jupyter.widget-view+json": {
       "model_id": "e53a89b166e84eb39cad1faf818acb57",
       "version_major": 2,
       "version_minor": 0
      },
      "text/plain": [
       "Training Epoch 4 :   0%|          | 0/1711 [00:00<?, ?it/s]"
      ]
     },
     "metadata": {},
     "output_type": "display_data"
    },
    {
     "data": {
      "application/vnd.jupyter.widget-view+json": {
       "model_id": "5ad0e5d9e8de48499bd87d666d74b221",
       "version_major": 2,
       "version_minor": 0
      },
      "text/plain": [
       "Training Epoch 5 :   0%|          | 0/1711 [00:00<?, ?it/s]"
      ]
     },
     "metadata": {},
     "output_type": "display_data"
    },
    {
     "data": {
      "application/vnd.jupyter.widget-view+json": {
       "model_id": "b09daf003f0d43ddad04edbebd47bb1e",
       "version_major": 2,
       "version_minor": 0
      },
      "text/plain": [
       "Training Epoch 6 :   0%|          | 0/1711 [00:00<?, ?it/s]"
      ]
     },
     "metadata": {},
     "output_type": "display_data"
    },
    {
     "data": {
      "application/vnd.jupyter.widget-view+json": {
       "model_id": "0881dd83ea6d43e6a152d3a98b90f70e",
       "version_major": 2,
       "version_minor": 0
      },
      "text/plain": [
       "Training Epoch 7 :   0%|          | 0/1711 [00:00<?, ?it/s]"
      ]
     },
     "metadata": {},
     "output_type": "display_data"
    },
    {
     "data": {
      "application/vnd.jupyter.widget-view+json": {
       "model_id": "2a69b2a2ad9e468596c2b4cda91957d0",
       "version_major": 2,
       "version_minor": 0
      },
      "text/plain": [
       "Training Epoch 8 :   0%|          | 0/1711 [00:00<?, ?it/s]"
      ]
     },
     "metadata": {},
     "output_type": "display_data"
    },
    {
     "data": {
      "application/vnd.jupyter.widget-view+json": {
       "model_id": "263b13895f4e4deab1ab5e626354a133",
       "version_major": 2,
       "version_minor": 0
      },
      "text/plain": [
       "Training Epoch 9 :   0%|          | 0/1711 [00:00<?, ?it/s]"
      ]
     },
     "metadata": {},
     "output_type": "display_data"
    },
    {
     "data": {
      "application/vnd.jupyter.widget-view+json": {
       "model_id": "de6d4ef62b2948839e36f3b07efba54c",
       "version_major": 2,
       "version_minor": 0
      },
      "text/plain": [
       "Training Epoch 10 :   0%|          | 0/1711 [00:00<?, ?it/s]"
      ]
     },
     "metadata": {},
     "output_type": "display_data"
    },
    {
     "data": {
      "application/vnd.jupyter.widget-view+json": {
       "model_id": "90b2fe85634e439ba5a70f3334e9eeac",
       "version_major": 2,
       "version_minor": 0
      },
      "text/plain": [
       "Training Epoch 11 :   0%|          | 0/1711 [00:00<?, ?it/s]"
      ]
     },
     "metadata": {},
     "output_type": "display_data"
    },
    {
     "data": {
      "application/vnd.jupyter.widget-view+json": {
       "model_id": "09edccf235cb4c5e8651ee366526677b",
       "version_major": 2,
       "version_minor": 0
      },
      "text/plain": [
       "Training Epoch 12 :   0%|          | 0/1711 [00:00<?, ?it/s]"
      ]
     },
     "metadata": {},
     "output_type": "display_data"
    },
    {
     "data": {
      "application/vnd.jupyter.widget-view+json": {
       "model_id": "8d9078ff0ea44c1d95cb975f41dbf3ef",
       "version_major": 2,
       "version_minor": 0
      },
      "text/plain": [
       "Training Epoch 13 :   0%|          | 0/1711 [00:00<?, ?it/s]"
      ]
     },
     "metadata": {},
     "output_type": "display_data"
    },
    {
     "data": {
      "application/vnd.jupyter.widget-view+json": {
       "model_id": "f15ec8da6b994c8291a5010d3f37967c",
       "version_major": 2,
       "version_minor": 0
      },
      "text/plain": [
       "Training Epoch 14 :   0%|          | 0/1711 [00:00<?, ?it/s]"
      ]
     },
     "metadata": {},
     "output_type": "display_data"
    },
    {
     "data": {
      "application/vnd.jupyter.widget-view+json": {
       "model_id": "f5775218206e49e28878c5bfa2617dda",
       "version_major": 2,
       "version_minor": 0
      },
      "text/plain": [
       "Training Epoch 15 :   0%|          | 0/1711 [00:00<?, ?it/s]"
      ]
     },
     "metadata": {},
     "output_type": "display_data"
    },
    {
     "data": {
      "application/vnd.jupyter.widget-view+json": {
       "model_id": "1e07b29891d64837862ec3ed4c0dfd77",
       "version_major": 2,
       "version_minor": 0
      },
      "text/plain": [
       "Training Epoch 16 :   0%|          | 0/1711 [00:00<?, ?it/s]"
      ]
     },
     "metadata": {},
     "output_type": "display_data"
    },
    {
     "data": {
      "application/vnd.jupyter.widget-view+json": {
       "model_id": "942c984f9f04483fbcd2406118138eda",
       "version_major": 2,
       "version_minor": 0
      },
      "text/plain": [
       "Training Epoch 17 :   0%|          | 0/1711 [00:00<?, ?it/s]"
      ]
     },
     "metadata": {},
     "output_type": "display_data"
    },
    {
     "data": {
      "application/vnd.jupyter.widget-view+json": {
       "model_id": "6f0a4d005221466f9a9d604bcec3390a",
       "version_major": 2,
       "version_minor": 0
      },
      "text/plain": [
       "Training Epoch 18 :   0%|          | 0/1711 [00:00<?, ?it/s]"
      ]
     },
     "metadata": {},
     "output_type": "display_data"
    },
    {
     "data": {
      "application/vnd.jupyter.widget-view+json": {
       "model_id": "efb77135fc774e6ea6508c8769fed5c4",
       "version_major": 2,
       "version_minor": 0
      },
      "text/plain": [
       "Training Epoch 19 :   0%|          | 0/1711 [00:00<?, ?it/s]"
      ]
     },
     "metadata": {},
     "output_type": "display_data"
    },
    {
     "data": {
      "application/vnd.jupyter.widget-view+json": {
       "model_id": "8bf24946f79344d0943a53a4ccfecc7e",
       "version_major": 2,
       "version_minor": 0
      },
      "text/plain": [
       "Training Epoch 20 :   0%|          | 0/1711 [00:00<?, ?it/s]"
      ]
     },
     "metadata": {},
     "output_type": "display_data"
    },
    {
     "data": {
      "application/vnd.jupyter.widget-view+json": {
       "model_id": "d7de696d3918451880d0a2c7fed1a023",
       "version_major": 2,
       "version_minor": 0
      },
      "text/plain": [
       "Training Epoch 21 :   0%|          | 0/1711 [00:00<?, ?it/s]"
      ]
     },
     "metadata": {},
     "output_type": "display_data"
    },
    {
     "data": {
      "application/vnd.jupyter.widget-view+json": {
       "model_id": "eefc7f4e688a4af49095dbb3b49a5118",
       "version_major": 2,
       "version_minor": 0
      },
      "text/plain": [
       "Training Epoch 22 :   0%|          | 0/1711 [00:00<?, ?it/s]"
      ]
     },
     "metadata": {},
     "output_type": "display_data"
    },
    {
     "data": {
      "application/vnd.jupyter.widget-view+json": {
       "model_id": "3d26e302ee0e42b6acf5429442bb0605",
       "version_major": 2,
       "version_minor": 0
      },
      "text/plain": [
       "Training Epoch 23 :   0%|          | 0/1711 [00:00<?, ?it/s]"
      ]
     },
     "metadata": {},
     "output_type": "display_data"
    },
    {
     "data": {
      "application/vnd.jupyter.widget-view+json": {
       "model_id": "9fd6829d8d4c458bbc22de48dd717c7b",
       "version_major": 2,
       "version_minor": 0
      },
      "text/plain": [
       "Training Epoch 24 :   0%|          | 0/1711 [00:00<?, ?it/s]"
      ]
     },
     "metadata": {},
     "output_type": "display_data"
    },
    {
     "data": {
      "application/vnd.jupyter.widget-view+json": {
       "model_id": "6b80d6689914435a9e316f6523b3f193",
       "version_major": 2,
       "version_minor": 0
      },
      "text/plain": [
       "Training Epoch 25 :   0%|          | 0/1711 [00:00<?, ?it/s]"
      ]
     },
     "metadata": {},
     "output_type": "display_data"
    },
    {
     "data": {
      "application/vnd.jupyter.widget-view+json": {
       "model_id": "b184a067dd994df09b468911eec7f762",
       "version_major": 2,
       "version_minor": 0
      },
      "text/plain": [
       "Training Epoch 26 :   0%|          | 0/1711 [00:00<?, ?it/s]"
      ]
     },
     "metadata": {},
     "output_type": "display_data"
    },
    {
     "data": {
      "application/vnd.jupyter.widget-view+json": {
       "model_id": "15c5196cc17942c0b2d0d89f363036e5",
       "version_major": 2,
       "version_minor": 0
      },
      "text/plain": [
       "Training Epoch 27 :   0%|          | 0/1711 [00:00<?, ?it/s]"
      ]
     },
     "metadata": {},
     "output_type": "display_data"
    },
    {
     "data": {
      "application/vnd.jupyter.widget-view+json": {
       "model_id": "ee87e9c0762d46b590f78318a56ac31d",
       "version_major": 2,
       "version_minor": 0
      },
      "text/plain": [
       "Training Epoch 28 :   0%|          | 0/1711 [00:00<?, ?it/s]"
      ]
     },
     "metadata": {},
     "output_type": "display_data"
    },
    {
     "data": {
      "application/vnd.jupyter.widget-view+json": {
       "model_id": "f78a149d06ba4973813ac942a26ece75",
       "version_major": 2,
       "version_minor": 0
      },
      "text/plain": [
       "Training Epoch 29 :   0%|          | 0/1711 [00:00<?, ?it/s]"
      ]
     },
     "metadata": {},
     "output_type": "display_data"
    },
    {
     "data": {
      "application/vnd.jupyter.widget-view+json": {
       "model_id": "f651619704d84f5a8363e67eb3bdcdd3",
       "version_major": 2,
       "version_minor": 0
      },
      "text/plain": [
       "Training Epoch 30 :   0%|          | 0/1711 [00:00<?, ?it/s]"
      ]
     },
     "metadata": {},
     "output_type": "display_data"
    },
    {
     "data": {
      "application/vnd.jupyter.widget-view+json": {
       "model_id": "a11fcdd94aa442a19944e19080e15adc",
       "version_major": 2,
       "version_minor": 0
      },
      "text/plain": [
       "Training Epoch 31 :   0%|          | 0/1711 [00:00<?, ?it/s]"
      ]
     },
     "metadata": {},
     "output_type": "display_data"
    },
    {
     "data": {
      "application/vnd.jupyter.widget-view+json": {
       "model_id": "a34caef1628e4f55965e4f86d6ceb649",
       "version_major": 2,
       "version_minor": 0
      },
      "text/plain": [
       "Training Epoch 32 :   0%|          | 0/1711 [00:00<?, ?it/s]"
      ]
     },
     "metadata": {},
     "output_type": "display_data"
    },
    {
     "data": {
      "application/vnd.jupyter.widget-view+json": {
       "model_id": "d0930620b8654af097c365e21d3bdd27",
       "version_major": 2,
       "version_minor": 0
      },
      "text/plain": [
       "Training Epoch 33 :   0%|          | 0/1711 [00:00<?, ?it/s]"
      ]
     },
     "metadata": {},
     "output_type": "display_data"
    },
    {
     "data": {
      "application/vnd.jupyter.widget-view+json": {
       "model_id": "f712e73a91234cd4b2d183ed0cd23f8d",
       "version_major": 2,
       "version_minor": 0
      },
      "text/plain": [
       "Training Epoch 34 :   0%|          | 0/1711 [00:00<?, ?it/s]"
      ]
     },
     "metadata": {},
     "output_type": "display_data"
    },
    {
     "data": {
      "application/vnd.jupyter.widget-view+json": {
       "model_id": "bbc43eb5576c4294a8237b8458c5b53c",
       "version_major": 2,
       "version_minor": 0
      },
      "text/plain": [
       "Training Epoch 35 :   0%|          | 0/1711 [00:00<?, ?it/s]"
      ]
     },
     "metadata": {},
     "output_type": "display_data"
    },
    {
     "data": {
      "application/vnd.jupyter.widget-view+json": {
       "model_id": "3cca7088f37e47dc9ac3ef1c0e558733",
       "version_major": 2,
       "version_minor": 0
      },
      "text/plain": [
       "Training Epoch 36 :   0%|          | 0/1711 [00:00<?, ?it/s]"
      ]
     },
     "metadata": {},
     "output_type": "display_data"
    },
    {
     "data": {
      "application/vnd.jupyter.widget-view+json": {
       "model_id": "6a1052f2035e4344ad02524c7943f800",
       "version_major": 2,
       "version_minor": 0
      },
      "text/plain": [
       "Training Epoch 37 :   0%|          | 0/1711 [00:00<?, ?it/s]"
      ]
     },
     "metadata": {},
     "output_type": "display_data"
    },
    {
     "data": {
      "application/vnd.jupyter.widget-view+json": {
       "model_id": "39526848845b4615a4b79257e91417ab",
       "version_major": 2,
       "version_minor": 0
      },
      "text/plain": [
       "Training Epoch 38 :   0%|          | 0/1711 [00:00<?, ?it/s]"
      ]
     },
     "metadata": {},
     "output_type": "display_data"
    },
    {
     "data": {
      "application/vnd.jupyter.widget-view+json": {
       "model_id": "c1422c9105054fb3bca07a43132d2bff",
       "version_major": 2,
       "version_minor": 0
      },
      "text/plain": [
       "Training Epoch 39 :   0%|          | 0/1711 [00:00<?, ?it/s]"
      ]
     },
     "metadata": {},
     "output_type": "display_data"
    },
    {
     "data": {
      "application/vnd.jupyter.widget-view+json": {
       "model_id": "438e51219a8d487e968b1e1abc5d3fd4",
       "version_major": 2,
       "version_minor": 0
      },
      "text/plain": [
       "Training Epoch 40 :   0%|          | 0/1711 [00:00<?, ?it/s]"
      ]
     },
     "metadata": {},
     "output_type": "display_data"
    },
    {
     "data": {
      "application/vnd.jupyter.widget-view+json": {
       "model_id": "d24a7623e91c4995ad6328c2ca504113",
       "version_major": 2,
       "version_minor": 0
      },
      "text/plain": [
       "Training Epoch 41 :   0%|          | 0/1711 [00:00<?, ?it/s]"
      ]
     },
     "metadata": {},
     "output_type": "display_data"
    },
    {
     "data": {
      "application/vnd.jupyter.widget-view+json": {
       "model_id": "1f8fe533e6e44d87bfbe6656d0f71c03",
       "version_major": 2,
       "version_minor": 0
      },
      "text/plain": [
       "Training Epoch 42 :   0%|          | 0/1711 [00:00<?, ?it/s]"
      ]
     },
     "metadata": {},
     "output_type": "display_data"
    },
    {
     "data": {
      "application/vnd.jupyter.widget-view+json": {
       "model_id": "934126c5810248388be42a28c659fece",
       "version_major": 2,
       "version_minor": 0
      },
      "text/plain": [
       "Training Epoch 43 :   0%|          | 0/1711 [00:00<?, ?it/s]"
      ]
     },
     "metadata": {},
     "output_type": "display_data"
    },
    {
     "data": {
      "application/vnd.jupyter.widget-view+json": {
       "model_id": "cf7dab29f0f24ff58653ec8d656b1f51",
       "version_major": 2,
       "version_minor": 0
      },
      "text/plain": [
       "Training Epoch 44 :   0%|          | 0/1711 [00:00<?, ?it/s]"
      ]
     },
     "metadata": {},
     "output_type": "display_data"
    },
    {
     "data": {
      "application/vnd.jupyter.widget-view+json": {
       "model_id": "25011301d84b4466a761b670792aa9af",
       "version_major": 2,
       "version_minor": 0
      },
      "text/plain": [
       "Training Epoch 45 :   0%|          | 0/1711 [00:00<?, ?it/s]"
      ]
     },
     "metadata": {},
     "output_type": "display_data"
    },
    {
     "data": {
      "application/vnd.jupyter.widget-view+json": {
       "model_id": "b2d3ccbef86741978a732e25ae956bce",
       "version_major": 2,
       "version_minor": 0
      },
      "text/plain": [
       "Training Epoch 46 :   0%|          | 0/1711 [00:00<?, ?it/s]"
      ]
     },
     "metadata": {},
     "output_type": "display_data"
    },
    {
     "data": {
      "application/vnd.jupyter.widget-view+json": {
       "model_id": "4d57478c0f9d425e9905248ffec0bbd0",
       "version_major": 2,
       "version_minor": 0
      },
      "text/plain": [
       "Training Epoch 47 :   0%|          | 0/1711 [00:00<?, ?it/s]"
      ]
     },
     "metadata": {},
     "output_type": "display_data"
    },
    {
     "data": {
      "application/vnd.jupyter.widget-view+json": {
       "model_id": "878197c23bfa4c3a980223994130387a",
       "version_major": 2,
       "version_minor": 0
      },
      "text/plain": [
       "Training Epoch 48 :   0%|          | 0/1711 [00:00<?, ?it/s]"
      ]
     },
     "metadata": {},
     "output_type": "display_data"
    },
    {
     "data": {
      "application/vnd.jupyter.widget-view+json": {
       "model_id": "e946038b70a749f99dcfc9846adcd50e",
       "version_major": 2,
       "version_minor": 0
      },
      "text/plain": [
       "Training Epoch 49 :   0%|          | 0/1711 [00:00<?, ?it/s]"
      ]
     },
     "metadata": {},
     "output_type": "display_data"
    },
    {
     "data": {
      "application/vnd.jupyter.widget-view+json": {
       "model_id": "4217030fd0ed46efa4ba9442af987f26",
       "version_major": 2,
       "version_minor": 0
      },
      "text/plain": [
       "Training Epoch 50 :   0%|          | 0/1711 [00:00<?, ?it/s]"
      ]
     },
     "metadata": {},
     "output_type": "display_data"
    },
    {
     "data": {
      "application/vnd.jupyter.widget-view+json": {
       "model_id": "a0deb89d85d14f6d9c5a17e38e6a9fb2",
       "version_major": 2,
       "version_minor": 0
      },
      "text/plain": [
       "Training Epoch 51 :   0%|          | 0/1711 [00:00<?, ?it/s]"
      ]
     },
     "metadata": {},
     "output_type": "display_data"
    },
    {
     "data": {
      "application/vnd.jupyter.widget-view+json": {
       "model_id": "67e0cfad55614a6e9c35b933553934fc",
       "version_major": 2,
       "version_minor": 0
      },
      "text/plain": [
       "Training Epoch 52 :   0%|          | 0/1711 [00:00<?, ?it/s]"
      ]
     },
     "metadata": {},
     "output_type": "display_data"
    },
    {
     "data": {
      "application/vnd.jupyter.widget-view+json": {
       "model_id": "dc86a79845744d489c82d98062a04654",
       "version_major": 2,
       "version_minor": 0
      },
      "text/plain": [
       "Training Epoch 53 :   0%|          | 0/1711 [00:00<?, ?it/s]"
      ]
     },
     "metadata": {},
     "output_type": "display_data"
    },
    {
     "data": {
      "application/vnd.jupyter.widget-view+json": {
       "model_id": "9d116d2a732d4100a59689c9fc9b4775",
       "version_major": 2,
       "version_minor": 0
      },
      "text/plain": [
       "Training Epoch 54 :   0%|          | 0/1711 [00:00<?, ?it/s]"
      ]
     },
     "metadata": {},
     "output_type": "display_data"
    },
    {
     "data": {
      "application/vnd.jupyter.widget-view+json": {
       "model_id": "7beeff9c5b6c4f6f8dc2fd7a5eb18141",
       "version_major": 2,
       "version_minor": 0
      },
      "text/plain": [
       "Training Epoch 55 :   0%|          | 0/1711 [00:00<?, ?it/s]"
      ]
     },
     "metadata": {},
     "output_type": "display_data"
    },
    {
     "data": {
      "application/vnd.jupyter.widget-view+json": {
       "model_id": "327a4fa75db0437da9e975d409be7052",
       "version_major": 2,
       "version_minor": 0
      },
      "text/plain": [
       "Training Epoch 56 :   0%|          | 0/1711 [00:00<?, ?it/s]"
      ]
     },
     "metadata": {},
     "output_type": "display_data"
    },
    {
     "data": {
      "application/vnd.jupyter.widget-view+json": {
       "model_id": "a364ce64a71b4ef6bce64981f69a94c9",
       "version_major": 2,
       "version_minor": 0
      },
      "text/plain": [
       "Training Epoch 57 :   0%|          | 0/1711 [00:00<?, ?it/s]"
      ]
     },
     "metadata": {},
     "output_type": "display_data"
    },
    {
     "data": {
      "application/vnd.jupyter.widget-view+json": {
       "model_id": "5a688505bac8457a9fa0d2709f44c653",
       "version_major": 2,
       "version_minor": 0
      },
      "text/plain": [
       "Training Epoch 58 :   0%|          | 0/1711 [00:00<?, ?it/s]"
      ]
     },
     "metadata": {},
     "output_type": "display_data"
    },
    {
     "data": {
      "application/vnd.jupyter.widget-view+json": {
       "model_id": "6cd5cb804bb74e61905357c5c68cc272",
       "version_major": 2,
       "version_minor": 0
      },
      "text/plain": [
       "Training Epoch 59 :   0%|          | 0/1711 [00:00<?, ?it/s]"
      ]
     },
     "metadata": {},
     "output_type": "display_data"
    },
    {
     "data": {
      "application/vnd.jupyter.widget-view+json": {
       "model_id": "3d8a9aee1fc6465e8af629959de68bcf",
       "version_major": 2,
       "version_minor": 0
      },
      "text/plain": [
       "Training Epoch 60 :   0%|          | 0/1711 [00:00<?, ?it/s]"
      ]
     },
     "metadata": {},
     "output_type": "display_data"
    },
    {
     "data": {
      "application/vnd.jupyter.widget-view+json": {
       "model_id": "3c63c49d81c745dda972d010b7bd01f2",
       "version_major": 2,
       "version_minor": 0
      },
      "text/plain": [
       "Training Epoch 61 :   0%|          | 0/1711 [00:00<?, ?it/s]"
      ]
     },
     "metadata": {},
     "output_type": "display_data"
    },
    {
     "data": {
      "application/vnd.jupyter.widget-view+json": {
       "model_id": "4bbf0cd9ce60442ba9a1dab7e49497bf",
       "version_major": 2,
       "version_minor": 0
      },
      "text/plain": [
       "Training Epoch 62 :   0%|          | 0/1711 [00:00<?, ?it/s]"
      ]
     },
     "metadata": {},
     "output_type": "display_data"
    },
    {
     "data": {
      "application/vnd.jupyter.widget-view+json": {
       "model_id": "f66cfb27e5ee45979d8cec87b0337174",
       "version_major": 2,
       "version_minor": 0
      },
      "text/plain": [
       "Training Epoch 63 :   0%|          | 0/1711 [00:00<?, ?it/s]"
      ]
     },
     "metadata": {},
     "output_type": "display_data"
    },
    {
     "data": {
      "application/vnd.jupyter.widget-view+json": {
       "model_id": "04ec4fe6a6fd4ec392c592b990e13bd8",
       "version_major": 2,
       "version_minor": 0
      },
      "text/plain": [
       "Training Epoch 64 :   0%|          | 0/1711 [00:00<?, ?it/s]"
      ]
     },
     "metadata": {},
     "output_type": "display_data"
    },
    {
     "data": {
      "application/vnd.jupyter.widget-view+json": {
       "model_id": "abcba25448a440f2830b084c184cc79e",
       "version_major": 2,
       "version_minor": 0
      },
      "text/plain": [
       "Training Epoch 65 :   0%|          | 0/1711 [00:00<?, ?it/s]"
      ]
     },
     "metadata": {},
     "output_type": "display_data"
    },
    {
     "data": {
      "application/vnd.jupyter.widget-view+json": {
       "model_id": "4f13001031dd48a79bf04c2f76df682d",
       "version_major": 2,
       "version_minor": 0
      },
      "text/plain": [
       "Training Epoch 66 :   0%|          | 0/1711 [00:00<?, ?it/s]"
      ]
     },
     "metadata": {},
     "output_type": "display_data"
    },
    {
     "data": {
      "application/vnd.jupyter.widget-view+json": {
       "model_id": "652bc718a11945689701f26e2dc7a6c9",
       "version_major": 2,
       "version_minor": 0
      },
      "text/plain": [
       "Training Epoch 67 :   0%|          | 0/1711 [00:00<?, ?it/s]"
      ]
     },
     "metadata": {},
     "output_type": "display_data"
    },
    {
     "data": {
      "application/vnd.jupyter.widget-view+json": {
       "model_id": "1c08bf66f5ab4f63af93ea718a646597",
       "version_major": 2,
       "version_minor": 0
      },
      "text/plain": [
       "Training Epoch 68 :   0%|          | 0/1711 [00:00<?, ?it/s]"
      ]
     },
     "metadata": {},
     "output_type": "display_data"
    },
    {
     "data": {
      "application/vnd.jupyter.widget-view+json": {
       "model_id": "fb58cd38338e495dbb42037ac5598621",
       "version_major": 2,
       "version_minor": 0
      },
      "text/plain": [
       "Training Epoch 69 :   0%|          | 0/1711 [00:00<?, ?it/s]"
      ]
     },
     "metadata": {},
     "output_type": "display_data"
    },
    {
     "data": {
      "application/vnd.jupyter.widget-view+json": {
       "model_id": "8e421be5a391416f9613e39149f81a69",
       "version_major": 2,
       "version_minor": 0
      },
      "text/plain": [
       "Training Epoch 70 :   0%|          | 0/1711 [00:00<?, ?it/s]"
      ]
     },
     "metadata": {},
     "output_type": "display_data"
    },
    {
     "data": {
      "application/vnd.jupyter.widget-view+json": {
       "model_id": "ee346ee019fa4133be9a22bf7c6ecb13",
       "version_major": 2,
       "version_minor": 0
      },
      "text/plain": [
       "Training Epoch 71 :   0%|          | 0/1711 [00:00<?, ?it/s]"
      ]
     },
     "metadata": {},
     "output_type": "display_data"
    },
    {
     "data": {
      "application/vnd.jupyter.widget-view+json": {
       "model_id": "ac12b895815c4444b5121d7bc0c4270b",
       "version_major": 2,
       "version_minor": 0
      },
      "text/plain": [
       "Training Epoch 72 :   0%|          | 0/1711 [00:00<?, ?it/s]"
      ]
     },
     "metadata": {},
     "output_type": "display_data"
    },
    {
     "data": {
      "application/vnd.jupyter.widget-view+json": {
       "model_id": "185ff273c80b4390b6fd9d9176899bd2",
       "version_major": 2,
       "version_minor": 0
      },
      "text/plain": [
       "Training Epoch 73 :   0%|          | 0/1711 [00:00<?, ?it/s]"
      ]
     },
     "metadata": {},
     "output_type": "display_data"
    },
    {
     "data": {
      "application/vnd.jupyter.widget-view+json": {
       "model_id": "86ffeaebb4e240bc9ce1b1b3f8a20228",
       "version_major": 2,
       "version_minor": 0
      },
      "text/plain": [
       "Training Epoch 74 :   0%|          | 0/1711 [00:00<?, ?it/s]"
      ]
     },
     "metadata": {},
     "output_type": "display_data"
    },
    {
     "data": {
      "application/vnd.jupyter.widget-view+json": {
       "model_id": "4b6aa0a8a4c24fe697bb1a8661eb2889",
       "version_major": 2,
       "version_minor": 0
      },
      "text/plain": [
       "Training Epoch 75 :   0%|          | 0/1711 [00:00<?, ?it/s]"
      ]
     },
     "metadata": {},
     "output_type": "display_data"
    },
    {
     "data": {
      "application/vnd.jupyter.widget-view+json": {
       "model_id": "61c88532c4fc47aa8b2ab38d51105df3",
       "version_major": 2,
       "version_minor": 0
      },
      "text/plain": [
       "Training Epoch 76 :   0%|          | 0/1711 [00:00<?, ?it/s]"
      ]
     },
     "metadata": {},
     "output_type": "display_data"
    },
    {
     "data": {
      "application/vnd.jupyter.widget-view+json": {
       "model_id": "df8fdfbdd8b04308ad387e7b259bc98b",
       "version_major": 2,
       "version_minor": 0
      },
      "text/plain": [
       "Training Epoch 77 :   0%|          | 0/1711 [00:00<?, ?it/s]"
      ]
     },
     "metadata": {},
     "output_type": "display_data"
    },
    {
     "data": {
      "application/vnd.jupyter.widget-view+json": {
       "model_id": "8086fb5402334e97a3d8c1a51b0a903b",
       "version_major": 2,
       "version_minor": 0
      },
      "text/plain": [
       "Training Epoch 78 :   0%|          | 0/1711 [00:00<?, ?it/s]"
      ]
     },
     "metadata": {},
     "output_type": "display_data"
    },
    {
     "data": {
      "application/vnd.jupyter.widget-view+json": {
       "model_id": "30bc12caf1ae4e5fb194101d3a8cbc43",
       "version_major": 2,
       "version_minor": 0
      },
      "text/plain": [
       "Training Epoch 79 :   0%|          | 0/1711 [00:00<?, ?it/s]"
      ]
     },
     "metadata": {},
     "output_type": "display_data"
    },
    {
     "data": {
      "application/vnd.jupyter.widget-view+json": {
       "model_id": "4807c57a5e494107a3fd479d8398ec89",
       "version_major": 2,
       "version_minor": 0
      },
      "text/plain": [
       "Training Epoch 80 :   0%|          | 0/1711 [00:00<?, ?it/s]"
      ]
     },
     "metadata": {},
     "output_type": "display_data"
    },
    {
     "data": {
      "application/vnd.jupyter.widget-view+json": {
       "model_id": "e47bce39002d42c4a48bbcb267290b8c",
       "version_major": 2,
       "version_minor": 0
      },
      "text/plain": [
       "Training Epoch 81 :   0%|          | 0/1711 [00:00<?, ?it/s]"
      ]
     },
     "metadata": {},
     "output_type": "display_data"
    },
    {
     "data": {
      "application/vnd.jupyter.widget-view+json": {
       "model_id": "95f854e4d0e8400786d6255b2c8f1a35",
       "version_major": 2,
       "version_minor": 0
      },
      "text/plain": [
       "Training Epoch 82 :   0%|          | 0/1711 [00:00<?, ?it/s]"
      ]
     },
     "metadata": {},
     "output_type": "display_data"
    },
    {
     "data": {
      "application/vnd.jupyter.widget-view+json": {
       "model_id": "d1727bfa36bc41699a80c3276eb93b8a",
       "version_major": 2,
       "version_minor": 0
      },
      "text/plain": [
       "Training Epoch 83 :   0%|          | 0/1711 [00:00<?, ?it/s]"
      ]
     },
     "metadata": {},
     "output_type": "display_data"
    },
    {
     "data": {
      "application/vnd.jupyter.widget-view+json": {
       "model_id": "809eb150838f4ab18e909a451f187307",
       "version_major": 2,
       "version_minor": 0
      },
      "text/plain": [
       "Training Epoch 84 :   0%|          | 0/1711 [00:00<?, ?it/s]"
      ]
     },
     "metadata": {},
     "output_type": "display_data"
    },
    {
     "data": {
      "application/vnd.jupyter.widget-view+json": {
       "model_id": "7d3f2ebe18794dc5abbb654d4797c67e",
       "version_major": 2,
       "version_minor": 0
      },
      "text/plain": [
       "Training Epoch 85 :   0%|          | 0/1711 [00:00<?, ?it/s]"
      ]
     },
     "metadata": {},
     "output_type": "display_data"
    },
    {
     "data": {
      "application/vnd.jupyter.widget-view+json": {
       "model_id": "f85ed4387eb1497ebcd000214d99b230",
       "version_major": 2,
       "version_minor": 0
      },
      "text/plain": [
       "Training Epoch 86 :   0%|          | 0/1711 [00:00<?, ?it/s]"
      ]
     },
     "metadata": {},
     "output_type": "display_data"
    },
    {
     "data": {
      "application/vnd.jupyter.widget-view+json": {
       "model_id": "d91841afccd94f15af0f4c7cee2a14e8",
       "version_major": 2,
       "version_minor": 0
      },
      "text/plain": [
       "Training Epoch 87 :   0%|          | 0/1711 [00:00<?, ?it/s]"
      ]
     },
     "metadata": {},
     "output_type": "display_data"
    },
    {
     "data": {
      "application/vnd.jupyter.widget-view+json": {
       "model_id": "64f99863b5274f8497c7fe894fb4aa87",
       "version_major": 2,
       "version_minor": 0
      },
      "text/plain": [
       "Training Epoch 88 :   0%|          | 0/1711 [00:00<?, ?it/s]"
      ]
     },
     "metadata": {},
     "output_type": "display_data"
    },
    {
     "data": {
      "application/vnd.jupyter.widget-view+json": {
       "model_id": "be311270116f4131a54deb2c952900b4",
       "version_major": 2,
       "version_minor": 0
      },
      "text/plain": [
       "Training Epoch 89 :   0%|          | 0/1711 [00:00<?, ?it/s]"
      ]
     },
     "metadata": {},
     "output_type": "display_data"
    },
    {
     "data": {
      "application/vnd.jupyter.widget-view+json": {
       "model_id": "31c27484a0484fcba175d2fd2c0bbc1c",
       "version_major": 2,
       "version_minor": 0
      },
      "text/plain": [
       "Training Epoch 90 :   0%|          | 0/1711 [00:00<?, ?it/s]"
      ]
     },
     "metadata": {},
     "output_type": "display_data"
    },
    {
     "data": {
      "application/vnd.jupyter.widget-view+json": {
       "model_id": "329228f6765a48ee97ea1631eaa63f9e",
       "version_major": 2,
       "version_minor": 0
      },
      "text/plain": [
       "Training Epoch 91 :   0%|          | 0/1711 [00:00<?, ?it/s]"
      ]
     },
     "metadata": {},
     "output_type": "display_data"
    },
    {
     "data": {
      "application/vnd.jupyter.widget-view+json": {
       "model_id": "919eea42e0fc46ad9937fe1393666156",
       "version_major": 2,
       "version_minor": 0
      },
      "text/plain": [
       "Training Epoch 92 :   0%|          | 0/1711 [00:00<?, ?it/s]"
      ]
     },
     "metadata": {},
     "output_type": "display_data"
    },
    {
     "data": {
      "application/vnd.jupyter.widget-view+json": {
       "model_id": "7e81ff30aab64f3cbb3d6b1fe64bff88",
       "version_major": 2,
       "version_minor": 0
      },
      "text/plain": [
       "Training Epoch 93 :   0%|          | 0/1711 [00:00<?, ?it/s]"
      ]
     },
     "metadata": {},
     "output_type": "display_data"
    },
    {
     "data": {
      "application/vnd.jupyter.widget-view+json": {
       "model_id": "6ce116aeb16541deb31165288cc73414",
       "version_major": 2,
       "version_minor": 0
      },
      "text/plain": [
       "Training Epoch 94 :   0%|          | 0/1711 [00:00<?, ?it/s]"
      ]
     },
     "metadata": {},
     "output_type": "display_data"
    },
    {
     "data": {
      "application/vnd.jupyter.widget-view+json": {
       "model_id": "1273cca4c2054982a40f8cceda45cc30",
       "version_major": 2,
       "version_minor": 0
      },
      "text/plain": [
       "Training Epoch 95 :   0%|          | 0/1711 [00:00<?, ?it/s]"
      ]
     },
     "metadata": {},
     "output_type": "display_data"
    },
    {
     "data": {
      "application/vnd.jupyter.widget-view+json": {
       "model_id": "add8063c5eb440ed95b2ee055b9a95a6",
       "version_major": 2,
       "version_minor": 0
      },
      "text/plain": [
       "Training Epoch 96 :   0%|          | 0/1711 [00:00<?, ?it/s]"
      ]
     },
     "metadata": {},
     "output_type": "display_data"
    },
    {
     "data": {
      "application/vnd.jupyter.widget-view+json": {
       "model_id": "5a207ae19c7a45c6a58baf341cf0987e",
       "version_major": 2,
       "version_minor": 0
      },
      "text/plain": [
       "Training Epoch 97 :   0%|          | 0/1711 [00:00<?, ?it/s]"
      ]
     },
     "metadata": {},
     "output_type": "display_data"
    },
    {
     "data": {
      "application/vnd.jupyter.widget-view+json": {
       "model_id": "ac369e9025b14254920a8a0e97fb0fb1",
       "version_major": 2,
       "version_minor": 0
      },
      "text/plain": [
       "Training Epoch 98 :   0%|          | 0/1711 [00:00<?, ?it/s]"
      ]
     },
     "metadata": {},
     "output_type": "display_data"
    },
    {
     "data": {
      "application/vnd.jupyter.widget-view+json": {
       "model_id": "d0290ad010614a1daa75bf26904897f6",
       "version_major": 2,
       "version_minor": 0
      },
      "text/plain": [
       "Training Epoch 99 :   0%|          | 0/1711 [00:00<?, ?it/s]"
      ]
     },
     "metadata": {},
     "output_type": "display_data"
    },
    {
     "data": {
      "application/vnd.jupyter.widget-view+json": {
       "model_id": "fdef7d8bf8ac4fb088acb7cdcb867520",
       "version_major": 2,
       "version_minor": 0
      },
      "text/plain": [
       "Training Epoch 100 :   0%|          | 0/1711 [00:00<?, ?it/s]"
      ]
     },
     "metadata": {},
     "output_type": "display_data"
    },
    {
     "data": {
      "application/vnd.jupyter.widget-view+json": {
       "model_id": "5eb54a5ca12643a5b0fb58859a4e43e4",
       "version_major": 2,
       "version_minor": 0
      },
      "text/plain": [
       "Training Epoch 101 :   0%|          | 0/1711 [00:00<?, ?it/s]"
      ]
     },
     "metadata": {},
     "output_type": "display_data"
    },
    {
     "data": {
      "application/vnd.jupyter.widget-view+json": {
       "model_id": "4dbe463d049643bba43194f3fec19bc5",
       "version_major": 2,
       "version_minor": 0
      },
      "text/plain": [
       "Training Epoch 102 :   0%|          | 0/1711 [00:00<?, ?it/s]"
      ]
     },
     "metadata": {},
     "output_type": "display_data"
    },
    {
     "data": {
      "application/vnd.jupyter.widget-view+json": {
       "model_id": "3aa6b1bf237b424db883660350a903ac",
       "version_major": 2,
       "version_minor": 0
      },
      "text/plain": [
       "Training Epoch 103 :   0%|          | 0/1711 [00:00<?, ?it/s]"
      ]
     },
     "metadata": {},
     "output_type": "display_data"
    },
    {
     "data": {
      "application/vnd.jupyter.widget-view+json": {
       "model_id": "ea11f9bbfef54027b74c2744e2242e61",
       "version_major": 2,
       "version_minor": 0
      },
      "text/plain": [
       "Training Epoch 104 :   0%|          | 0/1711 [00:00<?, ?it/s]"
      ]
     },
     "metadata": {},
     "output_type": "display_data"
    },
    {
     "data": {
      "application/vnd.jupyter.widget-view+json": {
       "model_id": "646d2e17ae224e43b321c64b23e2374c",
       "version_major": 2,
       "version_minor": 0
      },
      "text/plain": [
       "Training Epoch 105 :   0%|          | 0/1711 [00:00<?, ?it/s]"
      ]
     },
     "metadata": {},
     "output_type": "display_data"
    },
    {
     "data": {
      "application/vnd.jupyter.widget-view+json": {
       "model_id": "053fbca4d6934782adf377445b3da4d2",
       "version_major": 2,
       "version_minor": 0
      },
      "text/plain": [
       "Training Epoch 106 :   0%|          | 0/1711 [00:00<?, ?it/s]"
      ]
     },
     "metadata": {},
     "output_type": "display_data"
    },
    {
     "data": {
      "application/vnd.jupyter.widget-view+json": {
       "model_id": "c4f4d6934f8c490da9e26df39806a28a",
       "version_major": 2,
       "version_minor": 0
      },
      "text/plain": [
       "Training Epoch 107 :   0%|          | 0/1711 [00:00<?, ?it/s]"
      ]
     },
     "metadata": {},
     "output_type": "display_data"
    },
    {
     "data": {
      "application/vnd.jupyter.widget-view+json": {
       "model_id": "653369c370e54699809db318c977c324",
       "version_major": 2,
       "version_minor": 0
      },
      "text/plain": [
       "Training Epoch 108 :   0%|          | 0/1711 [00:00<?, ?it/s]"
      ]
     },
     "metadata": {},
     "output_type": "display_data"
    },
    {
     "data": {
      "application/vnd.jupyter.widget-view+json": {
       "model_id": "3bd3a4d521fb4bc2934d5840e3d2b09c",
       "version_major": 2,
       "version_minor": 0
      },
      "text/plain": [
       "Training Epoch 109 :   0%|          | 0/1711 [00:00<?, ?it/s]"
      ]
     },
     "metadata": {},
     "output_type": "display_data"
    },
    {
     "data": {
      "application/vnd.jupyter.widget-view+json": {
       "model_id": "3077c86da5e047e29027403f652d677b",
       "version_major": 2,
       "version_minor": 0
      },
      "text/plain": [
       "Training Epoch 110 :   0%|          | 0/1711 [00:00<?, ?it/s]"
      ]
     },
     "metadata": {},
     "output_type": "display_data"
    },
    {
     "data": {
      "application/vnd.jupyter.widget-view+json": {
       "model_id": "f949b8c14699415f9c795fd1cac6350f",
       "version_major": 2,
       "version_minor": 0
      },
      "text/plain": [
       "Training Epoch 111 :   0%|          | 0/1711 [00:00<?, ?it/s]"
      ]
     },
     "metadata": {},
     "output_type": "display_data"
    },
    {
     "data": {
      "application/vnd.jupyter.widget-view+json": {
       "model_id": "3785de26ae33408db5920584ab471dca",
       "version_major": 2,
       "version_minor": 0
      },
      "text/plain": [
       "Training Epoch 112 :   0%|          | 0/1711 [00:00<?, ?it/s]"
      ]
     },
     "metadata": {},
     "output_type": "display_data"
    },
    {
     "data": {
      "application/vnd.jupyter.widget-view+json": {
       "model_id": "78a03870c7ae4454b8472f2edd32a30d",
       "version_major": 2,
       "version_minor": 0
      },
      "text/plain": [
       "Training Epoch 113 :   0%|          | 0/1711 [00:00<?, ?it/s]"
      ]
     },
     "metadata": {},
     "output_type": "display_data"
    },
    {
     "data": {
      "application/vnd.jupyter.widget-view+json": {
       "model_id": "62bbc5043cf14730a96324d0d9da9451",
       "version_major": 2,
       "version_minor": 0
      },
      "text/plain": [
       "Training Epoch 114 :   0%|          | 0/1711 [00:00<?, ?it/s]"
      ]
     },
     "metadata": {},
     "output_type": "display_data"
    },
    {
     "data": {
      "application/vnd.jupyter.widget-view+json": {
       "model_id": "f85ffbbdc4c64d14bb1aed02e4b5f04f",
       "version_major": 2,
       "version_minor": 0
      },
      "text/plain": [
       "Training Epoch 115 :   0%|          | 0/1711 [00:00<?, ?it/s]"
      ]
     },
     "metadata": {},
     "output_type": "display_data"
    },
    {
     "data": {
      "application/vnd.jupyter.widget-view+json": {
       "model_id": "16aa97eba81142be8ce18ed509f23cf0",
       "version_major": 2,
       "version_minor": 0
      },
      "text/plain": [
       "Training Epoch 116 :   0%|          | 0/1711 [00:00<?, ?it/s]"
      ]
     },
     "metadata": {},
     "output_type": "display_data"
    },
    {
     "data": {
      "application/vnd.jupyter.widget-view+json": {
       "model_id": "3c459efb359b431c9be3b6802c55e1a7",
       "version_major": 2,
       "version_minor": 0
      },
      "text/plain": [
       "Training Epoch 117 :   0%|          | 0/1711 [00:00<?, ?it/s]"
      ]
     },
     "metadata": {},
     "output_type": "display_data"
    },
    {
     "data": {
      "application/vnd.jupyter.widget-view+json": {
       "model_id": "8eeabbe99b6f4ba987e113da4b05d5ee",
       "version_major": 2,
       "version_minor": 0
      },
      "text/plain": [
       "Training Epoch 118 :   0%|          | 0/1711 [00:00<?, ?it/s]"
      ]
     },
     "metadata": {},
     "output_type": "display_data"
    },
    {
     "data": {
      "application/vnd.jupyter.widget-view+json": {
       "model_id": "7e946fba05c24f30946b3537b128ad6d",
       "version_major": 2,
       "version_minor": 0
      },
      "text/plain": [
       "Training Epoch 119 :   0%|          | 0/1711 [00:00<?, ?it/s]"
      ]
     },
     "metadata": {},
     "output_type": "display_data"
    },
    {
     "data": {
      "application/vnd.jupyter.widget-view+json": {
       "model_id": "2cdfe627f846428eab27b3358ab1618c",
       "version_major": 2,
       "version_minor": 0
      },
      "text/plain": [
       "Training Epoch 120 :   0%|          | 0/1711 [00:00<?, ?it/s]"
      ]
     },
     "metadata": {},
     "output_type": "display_data"
    },
    {
     "data": {
      "application/vnd.jupyter.widget-view+json": {
       "model_id": "aaad9b7604ca45d68567dd2c5fc4e369",
       "version_major": 2,
       "version_minor": 0
      },
      "text/plain": [
       "Training Epoch 121 :   0%|          | 0/1711 [00:00<?, ?it/s]"
      ]
     },
     "metadata": {},
     "output_type": "display_data"
    },
    {
     "data": {
      "application/vnd.jupyter.widget-view+json": {
       "model_id": "0a35dd1fe8d14a64b94106e2fbda76ec",
       "version_major": 2,
       "version_minor": 0
      },
      "text/plain": [
       "Training Epoch 122 :   0%|          | 0/1711 [00:00<?, ?it/s]"
      ]
     },
     "metadata": {},
     "output_type": "display_data"
    },
    {
     "data": {
      "application/vnd.jupyter.widget-view+json": {
       "model_id": "7e3f84a829ee49fca991d3f453c8943d",
       "version_major": 2,
       "version_minor": 0
      },
      "text/plain": [
       "Training Epoch 123 :   0%|          | 0/1711 [00:00<?, ?it/s]"
      ]
     },
     "metadata": {},
     "output_type": "display_data"
    },
    {
     "data": {
      "application/vnd.jupyter.widget-view+json": {
       "model_id": "54da345165014ae78517417252139ec3",
       "version_major": 2,
       "version_minor": 0
      },
      "text/plain": [
       "Training Epoch 124 :   0%|          | 0/1711 [00:00<?, ?it/s]"
      ]
     },
     "metadata": {},
     "output_type": "display_data"
    },
    {
     "data": {
      "application/vnd.jupyter.widget-view+json": {
       "model_id": "27481f74525846f5a5905101d8857f7e",
       "version_major": 2,
       "version_minor": 0
      },
      "text/plain": [
       "Training Epoch 125 :   0%|          | 0/1711 [00:00<?, ?it/s]"
      ]
     },
     "metadata": {},
     "output_type": "display_data"
    },
    {
     "data": {
      "application/vnd.jupyter.widget-view+json": {
       "model_id": "7204d83ef5cd43ab90ea88434260d0e7",
       "version_major": 2,
       "version_minor": 0
      },
      "text/plain": [
       "Training Epoch 126 :   0%|          | 0/1711 [00:00<?, ?it/s]"
      ]
     },
     "metadata": {},
     "output_type": "display_data"
    },
    {
     "data": {
      "application/vnd.jupyter.widget-view+json": {
       "model_id": "56401f41c9c04bde92f6824959f09766",
       "version_major": 2,
       "version_minor": 0
      },
      "text/plain": [
       "Training Epoch 127 :   0%|          | 0/1711 [00:00<?, ?it/s]"
      ]
     },
     "metadata": {},
     "output_type": "display_data"
    },
    {
     "data": {
      "application/vnd.jupyter.widget-view+json": {
       "model_id": "18e86f4df4494052a3bf31d53819b9ed",
       "version_major": 2,
       "version_minor": 0
      },
      "text/plain": [
       "Training Epoch 128 :   0%|          | 0/1711 [00:00<?, ?it/s]"
      ]
     },
     "metadata": {},
     "output_type": "display_data"
    },
    {
     "data": {
      "application/vnd.jupyter.widget-view+json": {
       "model_id": "707da05d4e524aed83dc5deb353fdd38",
       "version_major": 2,
       "version_minor": 0
      },
      "text/plain": [
       "Training Epoch 129 :   0%|          | 0/1711 [00:00<?, ?it/s]"
      ]
     },
     "metadata": {},
     "output_type": "display_data"
    },
    {
     "data": {
      "application/vnd.jupyter.widget-view+json": {
       "model_id": "5fb65b7ac34749dcabbeaf363cebb4c8",
       "version_major": 2,
       "version_minor": 0
      },
      "text/plain": [
       "Training Epoch 130 :   0%|          | 0/1711 [00:00<?, ?it/s]"
      ]
     },
     "metadata": {},
     "output_type": "display_data"
    },
    {
     "data": {
      "application/vnd.jupyter.widget-view+json": {
       "model_id": "96c224af66674f8dbd659673a6b3a8e2",
       "version_major": 2,
       "version_minor": 0
      },
      "text/plain": [
       "Training Epoch 131 :   0%|          | 0/1711 [00:00<?, ?it/s]"
      ]
     },
     "metadata": {},
     "output_type": "display_data"
    },
    {
     "data": {
      "application/vnd.jupyter.widget-view+json": {
       "model_id": "8b7e65e9c528447dbb1652bd727fbb58",
       "version_major": 2,
       "version_minor": 0
      },
      "text/plain": [
       "Training Epoch 132 :   0%|          | 0/1711 [00:00<?, ?it/s]"
      ]
     },
     "metadata": {},
     "output_type": "display_data"
    },
    {
     "data": {
      "application/vnd.jupyter.widget-view+json": {
       "model_id": "ee04a697aca74205b4dd1299d9262252",
       "version_major": 2,
       "version_minor": 0
      },
      "text/plain": [
       "Training Epoch 133 :   0%|          | 0/1711 [00:00<?, ?it/s]"
      ]
     },
     "metadata": {},
     "output_type": "display_data"
    },
    {
     "data": {
      "application/vnd.jupyter.widget-view+json": {
       "model_id": "25342d3e0d444f51a6de81c6f519313d",
       "version_major": 2,
       "version_minor": 0
      },
      "text/plain": [
       "Training Epoch 134 :   0%|          | 0/1711 [00:00<?, ?it/s]"
      ]
     },
     "metadata": {},
     "output_type": "display_data"
    },
    {
     "data": {
      "application/vnd.jupyter.widget-view+json": {
       "model_id": "d84f1fbb6c9e4979bfe7514690b0ba7e",
       "version_major": 2,
       "version_minor": 0
      },
      "text/plain": [
       "Training Epoch 135 :   0%|          | 0/1711 [00:00<?, ?it/s]"
      ]
     },
     "metadata": {},
     "output_type": "display_data"
    },
    {
     "data": {
      "application/vnd.jupyter.widget-view+json": {
       "model_id": "478a2086f729406db800c7648e234485",
       "version_major": 2,
       "version_minor": 0
      },
      "text/plain": [
       "Training Epoch 136 :   0%|          | 0/1711 [00:00<?, ?it/s]"
      ]
     },
     "metadata": {},
     "output_type": "display_data"
    },
    {
     "data": {
      "application/vnd.jupyter.widget-view+json": {
       "model_id": "186d83f1e2554b31b67e99356c276f7a",
       "version_major": 2,
       "version_minor": 0
      },
      "text/plain": [
       "Training Epoch 137 :   0%|          | 0/1711 [00:00<?, ?it/s]"
      ]
     },
     "metadata": {},
     "output_type": "display_data"
    },
    {
     "data": {
      "application/vnd.jupyter.widget-view+json": {
       "model_id": "960902dd6d0c42f190d03d12740e8c6c",
       "version_major": 2,
       "version_minor": 0
      },
      "text/plain": [
       "Training Epoch 138 :   0%|          | 0/1711 [00:00<?, ?it/s]"
      ]
     },
     "metadata": {},
     "output_type": "display_data"
    },
    {
     "data": {
      "application/vnd.jupyter.widget-view+json": {
       "model_id": "ff701702664b46bc97f1a14d49c1ab49",
       "version_major": 2,
       "version_minor": 0
      },
      "text/plain": [
       "Training Epoch 139 :   0%|          | 0/1711 [00:00<?, ?it/s]"
      ]
     },
     "metadata": {},
     "output_type": "display_data"
    },
    {
     "data": {
      "application/vnd.jupyter.widget-view+json": {
       "model_id": "0ef46fce7868414f9606b7df7892be90",
       "version_major": 2,
       "version_minor": 0
      },
      "text/plain": [
       "Training Epoch 140 :   0%|          | 0/1711 [00:00<?, ?it/s]"
      ]
     },
     "metadata": {},
     "output_type": "display_data"
    },
    {
     "data": {
      "application/vnd.jupyter.widget-view+json": {
       "model_id": "b049cf0491d848008921b26948d62402",
       "version_major": 2,
       "version_minor": 0
      },
      "text/plain": [
       "Training Epoch 141 :   0%|          | 0/1711 [00:00<?, ?it/s]"
      ]
     },
     "metadata": {},
     "output_type": "display_data"
    },
    {
     "data": {
      "application/vnd.jupyter.widget-view+json": {
       "model_id": "b32c18368d9d4a8086e9a675bf25fe27",
       "version_major": 2,
       "version_minor": 0
      },
      "text/plain": [
       "Training Epoch 142 :   0%|          | 0/1711 [00:00<?, ?it/s]"
      ]
     },
     "metadata": {},
     "output_type": "display_data"
    },
    {
     "data": {
      "application/vnd.jupyter.widget-view+json": {
       "model_id": "86d581abc30b4742ac7ac3801253851d",
       "version_major": 2,
       "version_minor": 0
      },
      "text/plain": [
       "Training Epoch 143 :   0%|          | 0/1711 [00:00<?, ?it/s]"
      ]
     },
     "metadata": {},
     "output_type": "display_data"
    },
    {
     "data": {
      "application/vnd.jupyter.widget-view+json": {
       "model_id": "74751ba21ff341a09c7e8515bd38d27a",
       "version_major": 2,
       "version_minor": 0
      },
      "text/plain": [
       "Training Epoch 144 :   0%|          | 0/1711 [00:00<?, ?it/s]"
      ]
     },
     "metadata": {},
     "output_type": "display_data"
    },
    {
     "data": {
      "application/vnd.jupyter.widget-view+json": {
       "model_id": "ae152b495a9f4dedbb1761f975946d6b",
       "version_major": 2,
       "version_minor": 0
      },
      "text/plain": [
       "Training Epoch 145 :   0%|          | 0/1711 [00:00<?, ?it/s]"
      ]
     },
     "metadata": {},
     "output_type": "display_data"
    },
    {
     "data": {
      "application/vnd.jupyter.widget-view+json": {
       "model_id": "b882f9ea12cc4476b09b7146ca30bb42",
       "version_major": 2,
       "version_minor": 0
      },
      "text/plain": [
       "Training Epoch 146 :   0%|          | 0/1711 [00:00<?, ?it/s]"
      ]
     },
     "metadata": {},
     "output_type": "display_data"
    },
    {
     "data": {
      "application/vnd.jupyter.widget-view+json": {
       "model_id": "b50137666c444a4fafebbe002527becf",
       "version_major": 2,
       "version_minor": 0
      },
      "text/plain": [
       "Training Epoch 147 :   0%|          | 0/1711 [00:00<?, ?it/s]"
      ]
     },
     "metadata": {},
     "output_type": "display_data"
    },
    {
     "data": {
      "application/vnd.jupyter.widget-view+json": {
       "model_id": "9d9ed68737794e7a9e07e3ccdff8618e",
       "version_major": 2,
       "version_minor": 0
      },
      "text/plain": [
       "Training Epoch 148 :   0%|          | 0/1711 [00:00<?, ?it/s]"
      ]
     },
     "metadata": {},
     "output_type": "display_data"
    },
    {
     "data": {
      "application/vnd.jupyter.widget-view+json": {
       "model_id": "7861cc8635034d68973c9c74fbee809f",
       "version_major": 2,
       "version_minor": 0
      },
      "text/plain": [
       "Training Epoch 149 :   0%|          | 0/1711 [00:00<?, ?it/s]"
      ]
     },
     "metadata": {},
     "output_type": "display_data"
    }
   ],
   "source": [
    "\n",
    "for epoch in range(n_epochs):\n",
    "    \n",
    "    ### Training ###\n",
    "    gen_adv_loss, gen_pixel_loss, disc_loss, gen_loss = 0, 0, 0, 0\n",
    "    tqdm_bar = tqdm(dataloader, desc=f'Training Epoch {epoch} ', total=int(len(dataloader)))\n",
    "    for i, (imgs, masked_imgs, masked_parts) in enumerate(tqdm_bar):\n",
    "\n",
    "        # Adversarial ground truths\n",
    "        valid = Variable(Tensor(imgs.shape[0], *patch).fill_(1.0), requires_grad=False)\n",
    "        fake = Variable(Tensor(imgs.shape[0], *patch).fill_(0.0), requires_grad=False)\n",
    "\n",
    "        # Configure input\n",
    "        imgs = Variable(imgs.type(Tensor))\n",
    "        masked_imgs = Variable(masked_imgs.type(Tensor))\n",
    "        masked_parts = Variable(masked_parts.type(Tensor))\n",
    "\n",
    "        ## Train Generator ##\n",
    "        optimizer_G.zero_grad()\n",
    "\n",
    "        # Generate a batch of images\n",
    "        gen_parts = generator(masked_imgs)\n",
    "\n",
    "\n",
    "        # Adversarial and pixelwise loss\n",
    "        g_adv = adversarial_loss(discriminator(gen_parts), valid)\n",
    "        g_pixel = pixelwise_loss(gen_parts, masked_parts)\n",
    "        # Total loss\n",
    "        g_loss = 0.001 * g_adv + 0.999 * g_pixel\n",
    "\n",
    "        g_loss.backward()\n",
    "        optimizer_G.step()\n",
    "\n",
    "        ## Train Discriminator ##\n",
    "        optimizer_D.zero_grad()\n",
    "\n",
    "        # Measure discriminator's ability to classify real from generated samples\n",
    "        real_loss = adversarial_loss(discriminator(masked_parts), valid)\n",
    "        fake_loss = adversarial_loss(discriminator(gen_parts.detach()), fake)\n",
    "        d_loss = 0.5 * (real_loss + fake_loss)\n",
    "\n",
    "        d_loss.backward()\n",
    "        optimizer_D.step()\n",
    "        \n",
    "\n",
    "        \n",
    "        gen_adv_loss += g_adv.item()\n",
    "        gen_pixel_loss += g_pixel.item()\n",
    "        disc_loss += d_loss.item()\n",
    "        gen_loss += g_loss.item()\n",
    "        tqdm_bar.set_postfix(gen_adv_loss=gen_adv_loss/(i+1), gen_pixel_loss=gen_pixel_loss/(i+1), disc_loss=disc_loss/(i+1))\n",
    "        if i % 50 == 49:\n",
    "            writer.add_scalar('generator loss',\n",
    "                            gen_loss/(i+1),\n",
    "                            epoch * len(dataloader) + i)\n",
    "        \n",
    "            writer.add_scalar('descremenator loss',\n",
    "                            disc_loss/(i+1),\n",
    "                            epoch * len(dataloader) + i)\n",
    "        \n",
    "         \n",
    "    torch.save(generator.state_dict(), \"saved_models/generator.pth\")\n",
    "    torch.save(discriminator.state_dict(), \"saved_models/discriminator.pth\")\n",
    "writer.close()  "
   ]
  },
  {
   "cell_type": "code",
   "execution_count": null,
   "metadata": {},
   "outputs": [],
   "source": []
  },
  {
   "cell_type": "code",
   "execution_count": null,
   "metadata": {},
   "outputs": [],
   "source": []
  }
 ],
 "metadata": {
  "kernelspec": {
   "display_name": "Python 3 (ipykernel)",
   "language": "python",
   "name": "python3"
  },
  "language_info": {
   "codemirror_mode": {
    "name": "ipython",
    "version": 3
   },
   "file_extension": ".py",
   "mimetype": "text/x-python",
   "name": "python",
   "nbconvert_exporter": "python",
   "pygments_lexer": "ipython3",
   "version": "3.8.10"
  }
 },
 "nbformat": 4,
 "nbformat_minor": 4
}
