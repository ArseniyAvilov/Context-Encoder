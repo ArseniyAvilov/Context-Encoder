{
 "cells": [
  {
   "cell_type": "markdown",
   "metadata": {},
   "source": [
    "# Подключение к tensorboared"
   ]
  },
  {
   "cell_type": "code",
   "execution_count": 1,
   "metadata": {
    "execution": {
     "iopub.execute_input": "2021-07-12T09:42:41.151536Z",
     "iopub.status.busy": "2021-07-12T09:42:41.151207Z",
     "iopub.status.idle": "2021-07-12T09:42:43.374191Z",
     "shell.execute_reply": "2021-07-12T09:42:43.372425Z",
     "shell.execute_reply.started": "2021-07-12T09:42:41.151509Z"
    }
   },
   "outputs": [
    {
     "name": "stdout",
     "output_type": "stream",
     "text": [
      "--2021-07-12 09:42:41--  https://bin.equinox.io/c/4VmDzA7iaHb/ngrok-stable-linux-amd64.zip\n",
      "Resolving bin.equinox.io (bin.equinox.io)... 3.212.129.206, 52.45.159.115, 3.95.52.0, ...\n",
      "Connecting to bin.equinox.io (bin.equinox.io)|3.212.129.206|:443... connected.\n",
      "HTTP request sent, awaiting response... 200 OK\n",
      "Length: 13832437 (13M) [application/octet-stream]\n",
      "Saving to: ‘ngrok-stable-linux-amd64.zip’\n",
      "\n",
      "ngrok-stable-linux- 100%[===================>]  13.19M  40.5MB/s    in 0.3s    \n",
      "\n",
      "2021-07-12 09:42:42 (40.5 MB/s) - ‘ngrok-stable-linux-amd64.zip’ saved [13832437/13832437]\n",
      "\n",
      "Archive:  ngrok-stable-linux-amd64.zip\n",
      "  inflating: ngrok                   \n"
     ]
    }
   ],
   "source": [
    "# using the hard way \n",
    "# run tensorboard in kaggle server. and operate using public url\n",
    "\n",
    "# download the files for ngrok\n",
    "!wget https://bin.equinox.io/c/4VmDzA7iaHb/ngrok-stable-linux-amd64.zip\n",
    "!unzip ngrok-stable-linux-amd64.zip\n",
    "\n",
    "# Run tensorboard as well as Ngrox (for tunneling as non-blocking processes)\n",
    "import os\n",
    "import multiprocessing\n",
    "\n",
    "\n",
    "pool = multiprocessing.Pool(processes = 10)\n",
    "results_of_processes = [pool.apply_async(os.system, args=(cmd, ), callback = None )\n",
    "                        for cmd in [\n",
    "                        f\"tensorboard --logdir ./runs/ --host 0.0.0.0 --port 6006 &\",\n",
    "                        \"./ngrok http 6006 &\"\n",
    "                        ]]\n"
   ]
  },
  {
   "cell_type": "code",
   "execution_count": 2,
   "metadata": {
    "execution": {
     "iopub.execute_input": "2021-07-12T09:42:43.388691Z",
     "iopub.status.busy": "2021-07-12T09:42:43.382821Z",
     "iopub.status.idle": "2021-07-12T09:42:44.657601Z",
     "shell.execute_reply": "2021-07-12T09:42:44.655897Z",
     "shell.execute_reply.started": "2021-07-12T09:42:43.388641Z"
    }
   },
   "outputs": [
    {
     "name": "stdout",
     "output_type": "stream",
     "text": [
      "http://9e982c606afc.ngrok.io\n"
     ]
    }
   ],
   "source": [
    "! curl -s http://localhost:4040/api/tunnels | python3 -c \\\n",
    "    \"import sys, json; print(json.load(sys.stdin)['tunnels'][0]['public_url'])\""
   ]
  },
  {
   "cell_type": "code",
   "execution_count": 4,
   "metadata": {
    "execution": {
     "iopub.execute_input": "2021-07-12T09:42:45.576726Z",
     "iopub.status.busy": "2021-07-12T09:42:45.576364Z",
     "iopub.status.idle": "2021-07-12T09:42:47.016844Z",
     "shell.execute_reply": "2021-07-12T09:42:47.015889Z",
     "shell.execute_reply.started": "2021-07-12T09:42:45.576693Z"
    }
   },
   "outputs": [],
   "source": [
    "import numpy as np\n",
    "import os, math, sys\n",
    "import glob\n",
    "import random\n",
    "\n",
    "import torch\n",
    "import torch.nn as nn\n",
    "from torch.autograd import Variable\n",
    "import torchvision.transforms as transforms\n",
    "from torch.utils.data import DataLoader, Dataset, ConcatDataset\n",
    "from torchvision.utils import save_image, make_grid\n",
    "\n",
    "import matplotlib.pyplot as plt\n",
    "\n",
    "from PIL import Image\n",
    "from tqdm import tqdm_notebook as tqdm\n",
    "\n",
    "random.seed(42)\n",
    "import warnings\n",
    "warnings.filterwarnings(\"ignore\")"
   ]
  },
  {
   "cell_type": "code",
   "execution_count": 3,
   "metadata": {},
   "outputs": [
    {
     "name": "stdout",
     "output_type": "stream",
     "text": [
      "Collecting matplotlib\n",
      "  Downloading matplotlib-3.4.2-cp38-cp38-manylinux1_x86_64.whl (10.3 MB)\n",
      "\u001b[K     |████████████████████████████████| 10.3 MB 1.4 MB/s eta 0:00:01\n",
      "\u001b[?25hCollecting tqdm\n",
      "  Downloading tqdm-4.61.2-py2.py3-none-any.whl (76 kB)\n",
      "\u001b[K     |████████████████████████████████| 76 kB 6.7 MB/s  eta 0:00:01\n",
      "\u001b[?25hRequirement already satisfied: pillow>=6.2.0 in ./cntxt_encd_env/lib/python3.8/site-packages (from matplotlib) (8.3.1)\n",
      "Requirement already satisfied: numpy>=1.16 in ./cntxt_encd_env/lib/python3.8/site-packages (from matplotlib) (1.21.0)\n",
      "Requirement already satisfied: pyparsing>=2.2.1 in ./cntxt_encd_env/lib/python3.8/site-packages (from matplotlib) (2.4.7)\n",
      "Collecting kiwisolver>=1.0.1\n",
      "  Downloading kiwisolver-1.3.1-cp38-cp38-manylinux1_x86_64.whl (1.2 MB)\n",
      "\u001b[K     |████████████████████████████████| 1.2 MB 29.9 MB/s eta 0:00:01\n",
      "\u001b[?25hRequirement already satisfied: python-dateutil>=2.7 in ./cntxt_encd_env/lib/python3.8/site-packages (from matplotlib) (2.8.1)\n",
      "Collecting cycler>=0.10\n",
      "  Downloading cycler-0.10.0-py2.py3-none-any.whl (6.5 kB)\n",
      "Requirement already satisfied: six>=1.5 in ./cntxt_encd_env/lib/python3.8/site-packages (from python-dateutil>=2.7->matplotlib) (1.16.0)\n",
      "Installing collected packages: kiwisolver, cycler, matplotlib, tqdm\n",
      "Successfully installed cycler-0.10.0 kiwisolver-1.3.1 matplotlib-3.4.2 tqdm-4.61.2\n"
     ]
    }
   ],
   "source": [
    "!pip install matplotlib tqdm"
   ]
  },
  {
   "cell_type": "code",
   "execution_count": 5,
   "metadata": {
    "execution": {
     "iopub.execute_input": "2021-07-12T09:42:47.024015Z",
     "iopub.status.busy": "2021-07-12T09:42:47.021849Z",
     "iopub.status.idle": "2021-07-12T09:42:47.033783Z",
     "shell.execute_reply": "2021-07-12T09:42:47.032831Z",
     "shell.execute_reply.started": "2021-07-12T09:42:47.023973Z"
    }
   },
   "outputs": [],
   "source": [
    "# number of epochs of training\n",
    "n_epochs = 50\n",
    "# size of the batches\n",
    "batch_size = 64\n",
    "# name of the dataset\n",
    "dataset_name = \"val_256/\"\n",
    "# adam: learning rate\n",
    "lr = 10**-4\n",
    "# adam: decay of first order momentum of gradient\n",
    "b1 = 0.5\n",
    "# adam: decay of first order momentum of gradient\n",
    "b2 = 0.999\n",
    "# number of cpu threads to use during batch generation\n",
    "n_cpu = 8\n",
    "# size of each image dimension\n",
    "img_size = 128\n",
    "# size of random mask\n",
    "mask_size = 16\n",
    "# number of image channels\n",
    "channels = 3\n",
    "\n",
    "# Calculate output dims of image discriminator (PatchGAN)\n",
    "patch_h, patch_w = int(mask_size / 2 ** 3), int(mask_size / 2 ** 3)\n",
    "patch = (1, patch_h, patch_w)"
   ]
  },
  {
   "cell_type": "markdown",
   "metadata": {},
   "source": [
    "### Define Dataset Class"
   ]
  },
  {
   "cell_type": "code",
   "execution_count": 6,
   "metadata": {
    "execution": {
     "iopub.execute_input": "2021-07-12T09:42:50.319809Z",
     "iopub.status.busy": "2021-07-12T09:42:50.319390Z",
     "iopub.status.idle": "2021-07-12T09:42:50.340342Z",
     "shell.execute_reply": "2021-07-12T09:42:50.339345Z",
     "shell.execute_reply.started": "2021-07-12T09:42:50.319761Z"
    }
   },
   "outputs": [],
   "source": [
    "class ImageDataset(Dataset):\n",
    "    def __init__(self, root, transforms_=None, img_size=128, mask_size=16, mode=\"train\"):\n",
    "        self.transform = transforms.Compose(transforms_)\n",
    "        self.img_size = img_size\n",
    "        self.mask_size = mask_size\n",
    "        self.mode = mode\n",
    "        self.files = sorted(glob.glob(\"%s/*.jpg\" % root))\n",
    "        # self.files = self.files[:-4000] if mode == \"train\" else self.files[-4000:]\n",
    "\n",
    "    def apply_random_mask(self, img):\n",
    "        \"\"\"Randomly masks image\"\"\"\n",
    "        y1, x1 = np.random.randint(0, self.img_size - self.mask_size, 2)\n",
    "        y2, x2 = y1 + self.mask_size, x1 + self.mask_size\n",
    "        masked_part = img[:, y1:y2, x1:x2]\n",
    "        masked_img = img.clone()\n",
    "        masked_img[:, y1:y2, x1:x2] = 1\n",
    "\n",
    "        return masked_img, masked_part\n",
    "\n",
    "    def __getitem__(self, index):\n",
    "\n",
    "        img = Image.open(self.files[index % len(self.files)])\n",
    "        img = self.transform(img)\n",
    "        if int(transforms.ToTensor()(img).shape[0]) == 1:\n",
    "            img = transforms.Grayscale(num_output_channels=3)(img)\n",
    "        \n",
    "        img = transforms.Compose([transforms.ToTensor(),\n",
    "                                  transforms.Normalize((0.5, 0.5, 0.5), (0.5, 0.5, 0.5)),])(img)\n",
    "\n",
    "        masked_img, aux = self.apply_random_mask(img)\n",
    "\n",
    "        return img, masked_img, aux\n",
    "\n",
    "    def __len__(self):\n",
    "        return len(self.files)"
   ]
  },
  {
   "cell_type": "code",
   "execution_count": 7,
   "metadata": {
    "execution": {
     "iopub.execute_input": "2021-07-12T09:42:50.717537Z",
     "iopub.status.busy": "2021-07-12T09:42:50.716968Z",
     "iopub.status.idle": "2021-07-12T09:42:52.116752Z",
     "shell.execute_reply": "2021-07-12T09:42:52.115804Z",
     "shell.execute_reply.started": "2021-07-12T09:42:50.717493Z"
    }
   },
   "outputs": [],
   "source": [
    "transform = [\n",
    "     transforms.Resize((128, 128)),\n",
    "     transforms.ColorJitter(hue=.50, saturation=.50),\n",
    "     transforms.RandomHorizontalFlip(p=0.5),\n",
    "     transforms.RandomVerticalFlip(p=0.5),\n",
    "     ]\n",
    "os.makedirs(\"aug_data\", exist_ok=True)\n",
    "augmentation_data = ImageDataset(dataset_name, transforms_=transform)"
   ]
  },
  {
   "cell_type": "code",
   "execution_count": 8,
   "metadata": {
    "execution": {
     "iopub.execute_input": "2021-07-12T09:42:52.119911Z",
     "iopub.status.busy": "2021-07-12T09:42:52.119361Z",
     "iopub.status.idle": "2021-07-12T09:42:52.257927Z",
     "shell.execute_reply": "2021-07-12T09:42:52.257231Z",
     "shell.execute_reply.started": "2021-07-12T09:42:52.119872Z"
    }
   },
   "outputs": [],
   "source": [
    "transform = [\n",
    "     transforms.Resize((128, 128)),\n",
    "     transforms.ColorJitter(hue=.20, saturation=.20),\n",
    "     transforms.RandomHorizontalFlip(p=0.5),\n",
    "     transforms.RandomVerticalFlip(p=0.5),\n",
    "     ]\n",
    "os.makedirs(\"aug_data\", exist_ok=True)\n",
    "augmentation_data_1 = ImageDataset(dataset_name, transforms_=transform)"
   ]
  },
  {
   "cell_type": "markdown",
   "metadata": {},
   "source": [
    "### Get Train/Test Dataloaders"
   ]
  },
  {
   "cell_type": "code",
   "execution_count": 9,
   "metadata": {
    "execution": {
     "iopub.execute_input": "2021-07-12T09:42:52.259901Z",
     "iopub.status.busy": "2021-07-12T09:42:52.259409Z",
     "iopub.status.idle": "2021-07-12T09:42:52.397421Z",
     "shell.execute_reply": "2021-07-12T09:42:52.396696Z",
     "shell.execute_reply.started": "2021-07-12T09:42:52.259863Z"
    }
   },
   "outputs": [],
   "source": [
    "transforms_ = [\n",
    "    transforms.Resize((img_size, img_size), Image.BICUBIC),\n",
    "    #transforms.ToTensor(),\n",
    "    #transforms.Normalize((0.5, 0.5, 0.5), (0.5, 0.5, 0.5)),\n",
    "]\n",
    "\n",
    "dataloader = DataLoader(\n",
    "    ConcatDataset([ImageDataset(dataset_name, transforms_=transforms_),augmentation_data_1, augmentation_data]),\n",
    "    batch_size=batch_size,\n",
    "    shuffle=True,\n",
    "    num_workers=n_cpu,\n",
    ")"
   ]
  },
  {
   "cell_type": "markdown",
   "metadata": {},
   "source": [
    "<h3><center>Model Architecture</center></h3>\n",
    "<img src=\"https://miro.medium.com/max/700/1*fJpamgw0yBZZRNEuex07hw.png\" width=\"1000\" height=\"1000\"/>\n",
    "<h4></h4>\n",
    "<h4><center>Image Source:  <a href=\"https://arxiv.org/abs/1609.04802\">Context Encoders: Feature Learning by Inpainting [Deepak Pathak et al.]</a></center></h4>"
   ]
  },
  {
   "cell_type": "code",
   "execution_count": 10,
   "metadata": {
    "execution": {
     "iopub.execute_input": "2021-07-12T09:42:52.539116Z",
     "iopub.status.busy": "2021-07-12T09:42:52.538824Z",
     "iopub.status.idle": "2021-07-12T09:42:52.561119Z",
     "shell.execute_reply": "2021-07-12T09:42:52.560354Z",
     "shell.execute_reply.started": "2021-07-12T09:42:52.539086Z"
    }
   },
   "outputs": [],
   "source": [
    "class Generator(nn.Module):\n",
    "    def __init__(self, channels=3):\n",
    "        super(Generator, self).__init__()\n",
    "\n",
    "        def encoder(in_feat, out_feat, normalize=True):\n",
    "            layers = [nn.Conv2d(in_feat, out_feat, 4, stride=2, padding=1)]\n",
    "            if normalize:\n",
    "                layers.append(nn.BatchNorm2d(out_feat, 0.8))\n",
    "            layers.append(nn.LeakyReLU(0.2))\n",
    "            return layers\n",
    "\n",
    "        def decoder(in_feat, out_feat, normalize=True):\n",
    "            layers = [nn.ConvTranspose2d(in_feat, out_feat, 4, stride=2, padding=1)]\n",
    "            if normalize:\n",
    "                layers.append(nn.BatchNorm2d(out_feat, 0.8))\n",
    "            layers.append(nn.ReLU())\n",
    "            return layers\n",
    "\n",
    "        self.model = nn.Sequential(\n",
    "            *encoder(channels, 64, normalize=False),\n",
    "            *encoder(64, 64),\n",
    "            *encoder(64, 128),\n",
    "            *encoder(128, 256),\n",
    "            *encoder(256, 512),\n",
    "            nn.Conv2d(512, 4000, 1),\n",
    "            *decoder(4000, 512),\n",
    "            *decoder(512, 256),\n",
    "            *decoder(256, 128),\n",
    "            *decoder(128, 64),\n",
    "            nn.Conv2d(64, channels, 3, 1, 1),\n",
    "            nn.Tanh()\n",
    "        )\n",
    "\n",
    "    def forward(self, x):\n",
    "        return self.model(x)\n",
    "    \n",
    "\n",
    "class Discriminator(nn.Module):\n",
    "    def __init__(self, channels=3):\n",
    "        super(Discriminator, self).__init__()\n",
    "\n",
    "        def discriminator_block(in_filters, out_filters, stride, normalize):\n",
    "            layers = [nn.Conv2d(in_filters, out_filters, 3, stride, 1)]\n",
    "            if normalize:\n",
    "                layers.append(nn.InstanceNorm2d(out_filters))\n",
    "            layers.append(nn.LeakyReLU(0.2, inplace=True))\n",
    "            return layers\n",
    "\n",
    "        self.model = nn.Sequential(*discriminator_block(channels, 64, 2, False),\n",
    "                                   *discriminator_block(64, 128, 2, True),\n",
    "                                   *discriminator_block(128, 256, 2, True),\n",
    "                                   *discriminator_block(256, 512, 1, True),\n",
    "                                   nn.Conv2d(512, 1, 3, 1, 1))\n",
    "\n",
    "    def forward(self, img):\n",
    "        return self.model(img)"
   ]
  },
  {
   "cell_type": "code",
   "execution_count": 11,
   "metadata": {
    "execution": {
     "iopub.execute_input": "2021-07-12T09:42:52.931772Z",
     "iopub.status.busy": "2021-07-12T09:42:52.931447Z",
     "iopub.status.idle": "2021-07-12T09:42:52.939263Z",
     "shell.execute_reply": "2021-07-12T09:42:52.938230Z",
     "shell.execute_reply.started": "2021-07-12T09:42:52.931740Z"
    }
   },
   "outputs": [
    {
     "data": {
      "text/plain": [
       "1711"
      ]
     },
     "execution_count": 11,
     "metadata": {},
     "output_type": "execute_result"
    }
   ],
   "source": [
    "len(dataloader)"
   ]
  },
  {
   "cell_type": "markdown",
   "metadata": {},
   "source": [
    "### Train Context-Encoder GAN"
   ]
  },
  {
   "cell_type": "code",
   "execution_count": 12,
   "metadata": {
    "execution": {
     "iopub.execute_input": "2021-07-12T09:42:53.972186Z",
     "iopub.status.busy": "2021-07-12T09:42:53.971646Z",
     "iopub.status.idle": "2021-07-12T09:42:58.124504Z",
     "shell.execute_reply": "2021-07-12T09:42:58.123703Z",
     "shell.execute_reply.started": "2021-07-12T09:42:53.972124Z"
    }
   },
   "outputs": [],
   "source": [
    "def weights_init_normal(m):\n",
    "    classname = m.__class__.__name__\n",
    "    if classname.find(\"Conv\") != -1:\n",
    "        torch.nn.init.normal_(m.weight.data, 0.0, 0.02)\n",
    "    elif classname.find(\"BatchNorm2d\") != -1:\n",
    "        torch.nn.init.normal_(m.weight.data, 1.0, 0.02)\n",
    "        torch.nn.init.constant_(m.bias.data, 0.0)\n",
    "    \n",
    "# Loss function\n",
    "adversarial_loss = torch.nn.MSELoss()\n",
    "pixelwise_loss = torch.nn.L1Loss()\n",
    "\n",
    "# Initialize generator and discriminator\n",
    "generator = Generator(channels=channels)\n",
    "discriminator = Discriminator(channels=channels)\n",
    "\n",
    "# Load pretrained models\n",
    "# generator.load_state_dict(torch.load(\"../input/context-encoder-gan-for-image-inpainting-pytorch/saved_models/generator.pth\"))\n",
    "# discriminator.load_state_dict(torch.load(\"../input/context-encoder-gan-for-image-inpainting-pytorch/saved_models/discriminator.pth\"))\n",
    "# print(\"Using pre-trained Context-Encoder GAN model!\")\n",
    "\n",
    "\n",
    "generator.model[27] = nn.Conv2d(64, 32, 4, stride=2, padding=1)\n",
    "generator.model[28] = nn.BatchNorm2d(32, 0.8)\n",
    "\n",
    "generator = nn.Sequential(generator,\n",
    "                          nn.ReLU(),\n",
    "                          nn.Conv2d(32, 16, 4, stride=2, padding=1),\n",
    "                          nn.BatchNorm2d(16, 0.8),\n",
    "                          nn.Conv2d(16, 3, 3, 1, 1),\n",
    "                          nn.Tanh()\n",
    "        )\n",
    "\n",
    "\n",
    "generator.cuda()\n",
    "discriminator.cuda()\n",
    "adversarial_loss.cuda()\n",
    "pixelwise_loss.cuda()\n",
    "\n",
    "# Initialize weights\n",
    "generator.apply(weights_init_normal)\n",
    "discriminator.apply(weights_init_normal)\n",
    "\n",
    "# Optimizers\n",
    "optimizer_G = torch.optim.Adam(generator.parameters(), lr=lr, betas=(b1, b2))\n",
    "optimizer_D = torch.optim.Adam(discriminator.parameters(), lr=lr, betas=(b1, b2))\n",
    "\n",
    "Tensor = torch.cuda.FloatTensor"
   ]
  },
  {
   "cell_type": "code",
   "execution_count": 13,
   "metadata": {},
   "outputs": [
    {
     "name": "stdout",
     "output_type": "stream",
     "text": [
      "Mon Jul 12 21:13:58 2021       \n",
      "+-----------------------------------------------------------------------------+\n",
      "| NVIDIA-SMI 470.42.01    Driver Version: 470.42.01    CUDA Version: 11.4     |\n",
      "|-------------------------------+----------------------+----------------------+\n",
      "| GPU  Name        Persistence-M| Bus-Id        Disp.A | Volatile Uncorr. ECC |\n",
      "| Fan  Temp  Perf  Pwr:Usage/Cap|         Memory-Usage | GPU-Util  Compute M. |\n",
      "|                               |                      |               MIG M. |\n",
      "|===============================+======================+======================|\n",
      "|   0  NVIDIA GeForce ...  On   | 00000000:04:00.0  On |                  N/A |\n",
      "|  0%   55C    P8    13W / 200W |   1537MiB /  6073MiB |      4%      Default |\n",
      "|                               |                      |                  N/A |\n",
      "+-------------------------------+----------------------+----------------------+\n",
      "                                                                               \n",
      "+-----------------------------------------------------------------------------+\n",
      "| Processes:                                                                  |\n",
      "|  GPU   GI   CI        PID   Type   Process name                  GPU Memory |\n",
      "|        ID   ID                                                   Usage      |\n",
      "|=============================================================================|\n",
      "|    0   N/A  N/A      1091      G   /usr/lib/xorg/Xorg                295MiB |\n",
      "|    0   N/A  N/A      1333      G   /usr/bin/gnome-shell               79MiB |\n",
      "|    0   N/A  N/A      2178      G   /usr/lib/firefox/firefox          226MiB |\n",
      "|    0   N/A  N/A      2438      G   /usr/lib/firefox/firefox            1MiB |\n",
      "|    0   N/A  N/A      2576      G   /usr/lib/firefox/firefox            1MiB |\n",
      "|    0   N/A  N/A      2745      G   /usr/lib/firefox/firefox            1MiB |\n",
      "|    0   N/A  N/A      3195      G   /usr/lib/firefox/firefox            1MiB |\n",
      "|    0   N/A  N/A      3243      G   /usr/lib/firefox/firefox            1MiB |\n",
      "|    0   N/A  N/A      3328      G   /usr/lib/firefox/firefox            1MiB |\n",
      "|    0   N/A  N/A      4269      G   /usr/lib/firefox/firefox            1MiB |\n",
      "|    0   N/A  N/A      4363      G   telegram-desktop                    1MiB |\n",
      "|    0   N/A  N/A      5060      C   ...ntxt_encd_env/bin/python3      915MiB |\n",
      "+-----------------------------------------------------------------------------+\n"
     ]
    }
   ],
   "source": [
    "!nvidia-smi"
   ]
  },
  {
   "cell_type": "code",
   "execution_count": 15,
   "metadata": {},
   "outputs": [
    {
     "name": "stdout",
     "output_type": "stream",
     "text": [
      "Collecting tensorboard\n",
      "  Downloading tensorboard-2.5.0-py3-none-any.whl (6.0 MB)\n",
      "\u001b[K     |████████████████████████████████| 6.0 MB 1.3 MB/s eta 0:00:01\n",
      "\u001b[?25hCollecting tensorboard-data-server<0.7.0,>=0.6.0\n",
      "  Downloading tensorboard_data_server-0.6.1-py3-none-manylinux2010_x86_64.whl (4.9 MB)\n",
      "\u001b[K     |████████████████████████████████| 4.9 MB 24.1 MB/s eta 0:00:01\n",
      "\u001b[?25hCollecting grpcio>=1.24.3\n",
      "  Downloading grpcio-1.38.1-cp38-cp38-manylinux2014_x86_64.whl (4.2 MB)\n",
      "\u001b[K     |████████████████████████████████| 4.2 MB 47.1 MB/s eta 0:00:01\n",
      "\u001b[?25hRequirement already satisfied: numpy>=1.12.0 in ./cntxt_encd_env/lib/python3.8/site-packages (from tensorboard) (1.21.0)\n",
      "Collecting tensorboard-plugin-wit>=1.6.0\n",
      "  Downloading tensorboard_plugin_wit-1.8.0-py3-none-any.whl (781 kB)\n",
      "\u001b[K     |████████████████████████████████| 781 kB 14.1 MB/s eta 0:00:01\n",
      "\u001b[?25hCollecting markdown>=2.6.8\n",
      "  Downloading Markdown-3.3.4-py3-none-any.whl (97 kB)\n",
      "\u001b[K     |████████████████████████████████| 97 kB 6.8 MB/s  eta 0:00:01\n",
      "\u001b[?25hCollecting absl-py>=0.4\n",
      "  Downloading absl_py-0.13.0-py3-none-any.whl (132 kB)\n",
      "\u001b[K     |████████████████████████████████| 132 kB 36.6 MB/s eta 0:00:01\n",
      "\u001b[?25hCollecting requests<3,>=2.21.0\n",
      "  Downloading requests-2.25.1-py2.py3-none-any.whl (61 kB)\n",
      "\u001b[K     |████████████████████████████████| 61 kB 7.4 MB/s  eta 0:00:01\n",
      "\u001b[?25hCollecting werkzeug>=0.11.15\n",
      "  Downloading Werkzeug-2.0.1-py3-none-any.whl (288 kB)\n",
      "\u001b[K     |████████████████████████████████| 288 kB 41.8 MB/s eta 0:00:01\n",
      "\u001b[?25hRequirement already satisfied: setuptools>=41.0.0 in ./cntxt_encd_env/lib/python3.8/site-packages (from tensorboard) (44.0.0)\n",
      "Collecting protobuf>=3.6.0\n",
      "  Downloading protobuf-3.17.3-cp38-cp38-manylinux_2_5_x86_64.manylinux1_x86_64.whl (1.0 MB)\n",
      "\u001b[K     |████████████████████████████████| 1.0 MB 29.8 MB/s eta 0:00:01\n",
      "\u001b[?25hCollecting google-auth<2,>=1.6.3\n",
      "  Downloading google_auth-1.32.1-py2.py3-none-any.whl (147 kB)\n",
      "\u001b[K     |████████████████████████████████| 147 kB 26.7 MB/s eta 0:00:01\n",
      "\u001b[?25hCollecting wheel>=0.26; python_version >= \"3\"\n",
      "  Downloading wheel-0.36.2-py2.py3-none-any.whl (35 kB)\n",
      "Collecting google-auth-oauthlib<0.5,>=0.4.1\n",
      "  Downloading google_auth_oauthlib-0.4.4-py2.py3-none-any.whl (18 kB)\n",
      "Requirement already satisfied: six>=1.5.2 in ./cntxt_encd_env/lib/python3.8/site-packages (from grpcio>=1.24.3->tensorboard) (1.16.0)\n",
      "Collecting chardet<5,>=3.0.2\n",
      "  Downloading chardet-4.0.0-py2.py3-none-any.whl (178 kB)\n",
      "\u001b[K     |████████████████████████████████| 178 kB 28.4 MB/s eta 0:00:01\n",
      "\u001b[?25hCollecting urllib3<1.27,>=1.21.1\n",
      "  Downloading urllib3-1.26.6-py2.py3-none-any.whl (138 kB)\n",
      "\u001b[K     |████████████████████████████████| 138 kB 34.0 MB/s eta 0:00:01\n",
      "\u001b[?25hCollecting idna<3,>=2.5\n",
      "  Downloading idna-2.10-py2.py3-none-any.whl (58 kB)\n",
      "\u001b[K     |████████████████████████████████| 58 kB 8.4 MB/s  eta 0:00:01\n",
      "\u001b[?25hCollecting certifi>=2017.4.17\n",
      "  Downloading certifi-2021.5.30-py2.py3-none-any.whl (145 kB)\n",
      "\u001b[K     |████████████████████████████████| 145 kB 51.3 MB/s eta 0:00:01\n",
      "\u001b[?25hCollecting cachetools<5.0,>=2.0.0\n",
      "  Downloading cachetools-4.2.2-py3-none-any.whl (11 kB)\n",
      "Collecting pyasn1-modules>=0.2.1\n",
      "  Downloading pyasn1_modules-0.2.8-py2.py3-none-any.whl (155 kB)\n",
      "\u001b[K     |████████████████████████████████| 155 kB 31.3 MB/s eta 0:00:01\n",
      "\u001b[?25hCollecting rsa<5,>=3.1.4; python_version >= \"3.6\"\n",
      "  Downloading rsa-4.7.2-py3-none-any.whl (34 kB)\n",
      "Collecting requests-oauthlib>=0.7.0\n",
      "  Downloading requests_oauthlib-1.3.0-py2.py3-none-any.whl (23 kB)\n",
      "Collecting pyasn1<0.5.0,>=0.4.6\n",
      "  Downloading pyasn1-0.4.8-py2.py3-none-any.whl (77 kB)\n",
      "\u001b[K     |████████████████████████████████| 77 kB 8.0 MB/s  eta 0:00:01\n",
      "\u001b[?25hCollecting oauthlib>=3.0.0\n",
      "  Downloading oauthlib-3.1.1-py2.py3-none-any.whl (146 kB)\n",
      "\u001b[K     |████████████████████████████████| 146 kB 49.6 MB/s eta 0:00:01\n",
      "\u001b[?25hInstalling collected packages: tensorboard-data-server, grpcio, tensorboard-plugin-wit, markdown, absl-py, chardet, urllib3, idna, certifi, requests, werkzeug, protobuf, cachetools, pyasn1, pyasn1-modules, rsa, google-auth, wheel, oauthlib, requests-oauthlib, google-auth-oauthlib, tensorboard\n",
      "Successfully installed absl-py-0.13.0 cachetools-4.2.2 certifi-2021.5.30 chardet-4.0.0 google-auth-1.32.1 google-auth-oauthlib-0.4.4 grpcio-1.38.1 idna-2.10 markdown-3.3.4 oauthlib-3.1.1 protobuf-3.17.3 pyasn1-0.4.8 pyasn1-modules-0.2.8 requests-2.25.1 requests-oauthlib-1.3.0 rsa-4.7.2 tensorboard-2.5.0 tensorboard-data-server-0.6.1 tensorboard-plugin-wit-1.8.0 urllib3-1.26.6 werkzeug-2.0.1 wheel-0.36.2\n"
     ]
    }
   ],
   "source": [
    "!pip install tensorboard"
   ]
  },
  {
   "cell_type": "code",
   "execution_count": 16,
   "metadata": {},
   "outputs": [],
   "source": [
    "from torch.utils.tensorboard import SummaryWriter\n",
    "writer = SummaryWriter('runs/context_encoder')\n",
    "os.makedirs(\"saved_models\", exist_ok=True)\n"
   ]
  },
  {
   "cell_type": "code",
   "execution_count": 17,
   "metadata": {},
   "outputs": [
    {
     "name": "stdout",
     "output_type": "stream",
     "text": [
      "TensorFlow installation not found - running with reduced feature set.\n",
      "\n",
      "NOTE: Using experimental fast data loading logic. To disable, pass\n",
      "    \"--load_fast=false\" and report issues on GitHub. More details:\n",
      "    https://github.com/tensorflow/tensorboard/issues/4784\n",
      "\n",
      "Serving TensorBoard on localhost; to expose to the network, use a proxy or pass --bind_all\n",
      "TensorBoard 2.5.0 at http://localhost:6006/ (Press CTRL+C to quit)\n",
      "^C\n"
     ]
    }
   ],
   "source": [
    "!tensorboard --logdir=runs"
   ]
  },
  {
   "cell_type": "code",
   "execution_count": 18,
   "metadata": {
    "execution": {
     "iopub.execute_input": "2021-07-12T09:42:58.126437Z",
     "iopub.status.busy": "2021-07-12T09:42:58.126120Z"
    }
   },
   "outputs": [
    {
     "data": {
      "application/vnd.jupyter.widget-view+json": {
       "model_id": "60e1c943047e44729c7ccbd222ef3928",
       "version_major": 2,
       "version_minor": 0
      },
      "text/plain": [
       "Training Epoch 0 :   0%|          | 0/1711 [00:00<?, ?it/s]"
      ]
     },
     "metadata": {},
     "output_type": "display_data"
    },
    {
     "data": {
      "application/vnd.jupyter.widget-view+json": {
       "model_id": "661e939beb4a4f148ae0e8de05135f6d",
       "version_major": 2,
       "version_minor": 0
      },
      "text/plain": [
       "Training Epoch 1 :   0%|          | 0/1711 [00:00<?, ?it/s]"
      ]
     },
     "metadata": {},
     "output_type": "display_data"
    },
    {
     "data": {
      "application/vnd.jupyter.widget-view+json": {
       "model_id": "7cce4ad402ec4912a33b6fa89a0c2ba0",
       "version_major": 2,
       "version_minor": 0
      },
      "text/plain": [
       "Training Epoch 2 :   0%|          | 0/1711 [00:00<?, ?it/s]"
      ]
     },
     "metadata": {},
     "output_type": "display_data"
    },
    {
     "data": {
      "application/vnd.jupyter.widget-view+json": {
       "model_id": "327aea817b15404e92c4bc39b1cb4eb5",
       "version_major": 2,
       "version_minor": 0
      },
      "text/plain": [
       "Training Epoch 3 :   0%|          | 0/1711 [00:00<?, ?it/s]"
      ]
     },
     "metadata": {},
     "output_type": "display_data"
    },
    {
     "data": {
      "application/vnd.jupyter.widget-view+json": {
       "model_id": "ea8ce8d4ed5f468da960a229f10aa24a",
       "version_major": 2,
       "version_minor": 0
      },
      "text/plain": [
       "Training Epoch 4 :   0%|          | 0/1711 [00:00<?, ?it/s]"
      ]
     },
     "metadata": {},
     "output_type": "display_data"
    },
    {
     "data": {
      "application/vnd.jupyter.widget-view+json": {
       "model_id": "f9afa53922fa4ed388de349172e95b27",
       "version_major": 2,
       "version_minor": 0
      },
      "text/plain": [
       "Training Epoch 5 :   0%|          | 0/1711 [00:00<?, ?it/s]"
      ]
     },
     "metadata": {},
     "output_type": "display_data"
    },
    {
     "data": {
      "application/vnd.jupyter.widget-view+json": {
       "model_id": "6b411a071fc04c18bf3a26f4d2a66ad9",
       "version_major": 2,
       "version_minor": 0
      },
      "text/plain": [
       "Training Epoch 6 :   0%|          | 0/1711 [00:00<?, ?it/s]"
      ]
     },
     "metadata": {},
     "output_type": "display_data"
    },
    {
     "data": {
      "application/vnd.jupyter.widget-view+json": {
       "model_id": "89c89fbd601d4775bcb6b325808895d9",
       "version_major": 2,
       "version_minor": 0
      },
      "text/plain": [
       "Training Epoch 7 :   0%|          | 0/1711 [00:00<?, ?it/s]"
      ]
     },
     "metadata": {},
     "output_type": "display_data"
    },
    {
     "data": {
      "application/vnd.jupyter.widget-view+json": {
       "model_id": "0598cafbc67b4b07b76731def2ab3f93",
       "version_major": 2,
       "version_minor": 0
      },
      "text/plain": [
       "Training Epoch 8 :   0%|          | 0/1711 [00:00<?, ?it/s]"
      ]
     },
     "metadata": {},
     "output_type": "display_data"
    },
    {
     "data": {
      "application/vnd.jupyter.widget-view+json": {
       "model_id": "77f9e94bfc7b4433a1b974fde9471629",
       "version_major": 2,
       "version_minor": 0
      },
      "text/plain": [
       "Training Epoch 9 :   0%|          | 0/1711 [00:00<?, ?it/s]"
      ]
     },
     "metadata": {},
     "output_type": "display_data"
    },
    {
     "data": {
      "application/vnd.jupyter.widget-view+json": {
       "model_id": "f469a77662ff4243a613853dbfc1d857",
       "version_major": 2,
       "version_minor": 0
      },
      "text/plain": [
       "Training Epoch 10 :   0%|          | 0/1711 [00:00<?, ?it/s]"
      ]
     },
     "metadata": {},
     "output_type": "display_data"
    },
    {
     "data": {
      "application/vnd.jupyter.widget-view+json": {
       "model_id": "544bef8665ca4636993dfef87fc6f30f",
       "version_major": 2,
       "version_minor": 0
      },
      "text/plain": [
       "Training Epoch 11 :   0%|          | 0/1711 [00:00<?, ?it/s]"
      ]
     },
     "metadata": {},
     "output_type": "display_data"
    },
    {
     "data": {
      "application/vnd.jupyter.widget-view+json": {
       "model_id": "7bcf41b7c0bb47a58ad3db818eedb989",
       "version_major": 2,
       "version_minor": 0
      },
      "text/plain": [
       "Training Epoch 12 :   0%|          | 0/1711 [00:00<?, ?it/s]"
      ]
     },
     "metadata": {},
     "output_type": "display_data"
    },
    {
     "data": {
      "application/vnd.jupyter.widget-view+json": {
       "model_id": "4d3ed91c551f43ceb676fdca4b2e1d22",
       "version_major": 2,
       "version_minor": 0
      },
      "text/plain": [
       "Training Epoch 13 :   0%|          | 0/1711 [00:00<?, ?it/s]"
      ]
     },
     "metadata": {},
     "output_type": "display_data"
    },
    {
     "data": {
      "application/vnd.jupyter.widget-view+json": {
       "model_id": "808822aa18344f0298e861cab4be1d7d",
       "version_major": 2,
       "version_minor": 0
      },
      "text/plain": [
       "Training Epoch 14 :   0%|          | 0/1711 [00:00<?, ?it/s]"
      ]
     },
     "metadata": {},
     "output_type": "display_data"
    },
    {
     "data": {
      "application/vnd.jupyter.widget-view+json": {
       "model_id": "4ae1b288f68640228ecafb1443d011f9",
       "version_major": 2,
       "version_minor": 0
      },
      "text/plain": [
       "Training Epoch 15 :   0%|          | 0/1711 [00:00<?, ?it/s]"
      ]
     },
     "metadata": {},
     "output_type": "display_data"
    },
    {
     "data": {
      "application/vnd.jupyter.widget-view+json": {
       "model_id": "cee2286a69334d66890c93ceaad6a066",
       "version_major": 2,
       "version_minor": 0
      },
      "text/plain": [
       "Training Epoch 16 :   0%|          | 0/1711 [00:00<?, ?it/s]"
      ]
     },
     "metadata": {},
     "output_type": "display_data"
    },
    {
     "data": {
      "application/vnd.jupyter.widget-view+json": {
       "model_id": "9f653647d9c74bcf994c5635a23d684d",
       "version_major": 2,
       "version_minor": 0
      },
      "text/plain": [
       "Training Epoch 17 :   0%|          | 0/1711 [00:00<?, ?it/s]"
      ]
     },
     "metadata": {},
     "output_type": "display_data"
    },
    {
     "data": {
      "application/vnd.jupyter.widget-view+json": {
       "model_id": "ccb89fa7275b486882e0eedddea67dfc",
       "version_major": 2,
       "version_minor": 0
      },
      "text/plain": [
       "Training Epoch 18 :   0%|          | 0/1711 [00:00<?, ?it/s]"
      ]
     },
     "metadata": {},
     "output_type": "display_data"
    },
    {
     "data": {
      "application/vnd.jupyter.widget-view+json": {
       "model_id": "d260fe3bf42f415e958a5818959d98c6",
       "version_major": 2,
       "version_minor": 0
      },
      "text/plain": [
       "Training Epoch 19 :   0%|          | 0/1711 [00:00<?, ?it/s]"
      ]
     },
     "metadata": {},
     "output_type": "display_data"
    },
    {
     "data": {
      "application/vnd.jupyter.widget-view+json": {
       "model_id": "2cefc21ca17f4ef08bbe8eb8757205cb",
       "version_major": 2,
       "version_minor": 0
      },
      "text/plain": [
       "Training Epoch 20 :   0%|          | 0/1711 [00:00<?, ?it/s]"
      ]
     },
     "metadata": {},
     "output_type": "display_data"
    },
    {
     "data": {
      "application/vnd.jupyter.widget-view+json": {
       "model_id": "1d92600719f24055b9d64ca30d56a28a",
       "version_major": 2,
       "version_minor": 0
      },
      "text/plain": [
       "Training Epoch 21 :   0%|          | 0/1711 [00:00<?, ?it/s]"
      ]
     },
     "metadata": {},
     "output_type": "display_data"
    },
    {
     "data": {
      "application/vnd.jupyter.widget-view+json": {
       "model_id": "c8abe38504d44bc1b59fc977a9ba2185",
       "version_major": 2,
       "version_minor": 0
      },
      "text/plain": [
       "Training Epoch 22 :   0%|          | 0/1711 [00:00<?, ?it/s]"
      ]
     },
     "metadata": {},
     "output_type": "display_data"
    },
    {
     "data": {
      "application/vnd.jupyter.widget-view+json": {
       "model_id": "0197c844c3fa4adaa2dc6848cef66669",
       "version_major": 2,
       "version_minor": 0
      },
      "text/plain": [
       "Training Epoch 23 :   0%|          | 0/1711 [00:00<?, ?it/s]"
      ]
     },
     "metadata": {},
     "output_type": "display_data"
    },
    {
     "data": {
      "application/vnd.jupyter.widget-view+json": {
       "model_id": "cb892fce7d094854938a326b895b3db1",
       "version_major": 2,
       "version_minor": 0
      },
      "text/plain": [
       "Training Epoch 24 :   0%|          | 0/1711 [00:00<?, ?it/s]"
      ]
     },
     "metadata": {},
     "output_type": "display_data"
    },
    {
     "data": {
      "application/vnd.jupyter.widget-view+json": {
       "model_id": "f9dc0a2595634f8d8940e4e62ecbd3dc",
       "version_major": 2,
       "version_minor": 0
      },
      "text/plain": [
       "Training Epoch 25 :   0%|          | 0/1711 [00:00<?, ?it/s]"
      ]
     },
     "metadata": {},
     "output_type": "display_data"
    },
    {
     "data": {
      "application/vnd.jupyter.widget-view+json": {
       "model_id": "e362f188e2e64c2b988c7b162f34dd4f",
       "version_major": 2,
       "version_minor": 0
      },
      "text/plain": [
       "Training Epoch 26 :   0%|          | 0/1711 [00:00<?, ?it/s]"
      ]
     },
     "metadata": {},
     "output_type": "display_data"
    },
    {
     "data": {
      "application/vnd.jupyter.widget-view+json": {
       "model_id": "999cbbb3021e43a6814f60afd5fd4cd5",
       "version_major": 2,
       "version_minor": 0
      },
      "text/plain": [
       "Training Epoch 27 :   0%|          | 0/1711 [00:00<?, ?it/s]"
      ]
     },
     "metadata": {},
     "output_type": "display_data"
    },
    {
     "data": {
      "application/vnd.jupyter.widget-view+json": {
       "model_id": "845a658f54b84bbe94a46401c3fc5e7b",
       "version_major": 2,
       "version_minor": 0
      },
      "text/plain": [
       "Training Epoch 28 :   0%|          | 0/1711 [00:00<?, ?it/s]"
      ]
     },
     "metadata": {},
     "output_type": "display_data"
    },
    {
     "data": {
      "application/vnd.jupyter.widget-view+json": {
       "model_id": "d9be0d72db5746019486b45410d7dbf7",
       "version_major": 2,
       "version_minor": 0
      },
      "text/plain": [
       "Training Epoch 29 :   0%|          | 0/1711 [00:00<?, ?it/s]"
      ]
     },
     "metadata": {},
     "output_type": "display_data"
    },
    {
     "data": {
      "application/vnd.jupyter.widget-view+json": {
       "model_id": "ceb9071564fa4810b7ade5d1950167ac",
       "version_major": 2,
       "version_minor": 0
      },
      "text/plain": [
       "Training Epoch 30 :   0%|          | 0/1711 [00:00<?, ?it/s]"
      ]
     },
     "metadata": {},
     "output_type": "display_data"
    },
    {
     "data": {
      "application/vnd.jupyter.widget-view+json": {
       "model_id": "1bd7e3f419544829b26f28d438aab3c3",
       "version_major": 2,
       "version_minor": 0
      },
      "text/plain": [
       "Training Epoch 31 :   0%|          | 0/1711 [00:00<?, ?it/s]"
      ]
     },
     "metadata": {},
     "output_type": "display_data"
    },
    {
     "data": {
      "application/vnd.jupyter.widget-view+json": {
       "model_id": "b3dfad7b28cb45a49db4e3e9566cd841",
       "version_major": 2,
       "version_minor": 0
      },
      "text/plain": [
       "Training Epoch 32 :   0%|          | 0/1711 [00:00<?, ?it/s]"
      ]
     },
     "metadata": {},
     "output_type": "display_data"
    },
    {
     "data": {
      "application/vnd.jupyter.widget-view+json": {
       "model_id": "6ccf6383ca1e4df7a97a7e72b4f09bb3",
       "version_major": 2,
       "version_minor": 0
      },
      "text/plain": [
       "Training Epoch 33 :   0%|          | 0/1711 [00:00<?, ?it/s]"
      ]
     },
     "metadata": {},
     "output_type": "display_data"
    },
    {
     "data": {
      "application/vnd.jupyter.widget-view+json": {
       "model_id": "e6d45ad8dd4e497c8e4c9fa6a1603b2c",
       "version_major": 2,
       "version_minor": 0
      },
      "text/plain": [
       "Training Epoch 34 :   0%|          | 0/1711 [00:00<?, ?it/s]"
      ]
     },
     "metadata": {},
     "output_type": "display_data"
    },
    {
     "data": {
      "application/vnd.jupyter.widget-view+json": {
       "model_id": "72c55d271e12495d922ff2c58e070d30",
       "version_major": 2,
       "version_minor": 0
      },
      "text/plain": [
       "Training Epoch 35 :   0%|          | 0/1711 [00:00<?, ?it/s]"
      ]
     },
     "metadata": {},
     "output_type": "display_data"
    },
    {
     "data": {
      "application/vnd.jupyter.widget-view+json": {
       "model_id": "3df0524269444600851b499d11e9d137",
       "version_major": 2,
       "version_minor": 0
      },
      "text/plain": [
       "Training Epoch 36 :   0%|          | 0/1711 [00:00<?, ?it/s]"
      ]
     },
     "metadata": {},
     "output_type": "display_data"
    },
    {
     "data": {
      "application/vnd.jupyter.widget-view+json": {
       "model_id": "e6a0f6eaf85f4a0ab75fc95274c9012f",
       "version_major": 2,
       "version_minor": 0
      },
      "text/plain": [
       "Training Epoch 37 :   0%|          | 0/1711 [00:00<?, ?it/s]"
      ]
     },
     "metadata": {},
     "output_type": "display_data"
    },
    {
     "data": {
      "application/vnd.jupyter.widget-view+json": {
       "model_id": "731df8a102ad4efebaf7a8d2964592cc",
       "version_major": 2,
       "version_minor": 0
      },
      "text/plain": [
       "Training Epoch 38 :   0%|          | 0/1711 [00:00<?, ?it/s]"
      ]
     },
     "metadata": {},
     "output_type": "display_data"
    },
    {
     "data": {
      "application/vnd.jupyter.widget-view+json": {
       "model_id": "2d916e2665d3431485cea7958ce2a876",
       "version_major": 2,
       "version_minor": 0
      },
      "text/plain": [
       "Training Epoch 39 :   0%|          | 0/1711 [00:00<?, ?it/s]"
      ]
     },
     "metadata": {},
     "output_type": "display_data"
    },
    {
     "data": {
      "application/vnd.jupyter.widget-view+json": {
       "model_id": "d3bf6d49f21a40c9956ae22fa20982e8",
       "version_major": 2,
       "version_minor": 0
      },
      "text/plain": [
       "Training Epoch 40 :   0%|          | 0/1711 [00:00<?, ?it/s]"
      ]
     },
     "metadata": {},
     "output_type": "display_data"
    },
    {
     "data": {
      "application/vnd.jupyter.widget-view+json": {
       "model_id": "a580921937864a14a0a914aa15e7b421",
       "version_major": 2,
       "version_minor": 0
      },
      "text/plain": [
       "Training Epoch 41 :   0%|          | 0/1711 [00:00<?, ?it/s]"
      ]
     },
     "metadata": {},
     "output_type": "display_data"
    },
    {
     "data": {
      "application/vnd.jupyter.widget-view+json": {
       "model_id": "ee53f5363386464d9e7983a1393382e4",
       "version_major": 2,
       "version_minor": 0
      },
      "text/plain": [
       "Training Epoch 42 :   0%|          | 0/1711 [00:00<?, ?it/s]"
      ]
     },
     "metadata": {},
     "output_type": "display_data"
    },
    {
     "data": {
      "application/vnd.jupyter.widget-view+json": {
       "model_id": "c38c72b64d074f37b72751c981462399",
       "version_major": 2,
       "version_minor": 0
      },
      "text/plain": [
       "Training Epoch 43 :   0%|          | 0/1711 [00:00<?, ?it/s]"
      ]
     },
     "metadata": {},
     "output_type": "display_data"
    },
    {
     "data": {
      "application/vnd.jupyter.widget-view+json": {
       "model_id": "1845835d0b8d42af9c5ab2935a4833a3",
       "version_major": 2,
       "version_minor": 0
      },
      "text/plain": [
       "Training Epoch 44 :   0%|          | 0/1711 [00:00<?, ?it/s]"
      ]
     },
     "metadata": {},
     "output_type": "display_data"
    },
    {
     "data": {
      "application/vnd.jupyter.widget-view+json": {
       "model_id": "31f50a4b9c034be4869332aa6100c263",
       "version_major": 2,
       "version_minor": 0
      },
      "text/plain": [
       "Training Epoch 45 :   0%|          | 0/1711 [00:00<?, ?it/s]"
      ]
     },
     "metadata": {},
     "output_type": "display_data"
    },
    {
     "data": {
      "application/vnd.jupyter.widget-view+json": {
       "model_id": "7c77abdead0e42f2ab640ed71f3ccbf1",
       "version_major": 2,
       "version_minor": 0
      },
      "text/plain": [
       "Training Epoch 46 :   0%|          | 0/1711 [00:00<?, ?it/s]"
      ]
     },
     "metadata": {},
     "output_type": "display_data"
    },
    {
     "data": {
      "application/vnd.jupyter.widget-view+json": {
       "model_id": "e70e94867b32419fb9e4d294f627fb46",
       "version_major": 2,
       "version_minor": 0
      },
      "text/plain": [
       "Training Epoch 47 :   0%|          | 0/1711 [00:00<?, ?it/s]"
      ]
     },
     "metadata": {},
     "output_type": "display_data"
    },
    {
     "data": {
      "application/vnd.jupyter.widget-view+json": {
       "model_id": "146ef73046244072a7d5712e7b3ea5e6",
       "version_major": 2,
       "version_minor": 0
      },
      "text/plain": [
       "Training Epoch 48 :   0%|          | 0/1711 [00:00<?, ?it/s]"
      ]
     },
     "metadata": {},
     "output_type": "display_data"
    },
    {
     "data": {
      "application/vnd.jupyter.widget-view+json": {
       "model_id": "0763e177f65843e7bd6a9ad00995c8b2",
       "version_major": 2,
       "version_minor": 0
      },
      "text/plain": [
       "Training Epoch 49 :   0%|          | 0/1711 [00:00<?, ?it/s]"
      ]
     },
     "metadata": {},
     "output_type": "display_data"
    }
   ],
   "source": [
    "\n",
    "for epoch in range(n_epochs):\n",
    "    \n",
    "    ### Training ###\n",
    "    gen_adv_loss, gen_pixel_loss, disc_loss, gen_loss = 0, 0, 0, 0\n",
    "    tqdm_bar = tqdm(dataloader, desc=f'Training Epoch {epoch} ', total=int(len(dataloader)))\n",
    "    for i, (imgs, masked_imgs, masked_parts) in enumerate(tqdm_bar):\n",
    "\n",
    "        # Adversarial ground truths\n",
    "        valid = Variable(Tensor(imgs.shape[0], *patch).fill_(1.0), requires_grad=False)\n",
    "        fake = Variable(Tensor(imgs.shape[0], *patch).fill_(0.0), requires_grad=False)\n",
    "\n",
    "        # Configure input\n",
    "        imgs = Variable(imgs.type(Tensor))\n",
    "        masked_imgs = Variable(masked_imgs.type(Tensor))\n",
    "        masked_parts = Variable(masked_parts.type(Tensor))\n",
    "\n",
    "        ## Train Generator ##\n",
    "        optimizer_G.zero_grad()\n",
    "\n",
    "        # Generate a batch of images\n",
    "        gen_parts = generator(masked_imgs)\n",
    "\n",
    "\n",
    "        # Adversarial and pixelwise loss\n",
    "        g_adv = adversarial_loss(discriminator(gen_parts), valid)\n",
    "        g_pixel = pixelwise_loss(gen_parts, masked_parts)\n",
    "        # Total loss\n",
    "        g_loss = 0.001 * g_adv + 0.999 * g_pixel\n",
    "\n",
    "        g_loss.backward()\n",
    "        optimizer_G.step()\n",
    "\n",
    "        ## Train Discriminator ##\n",
    "        optimizer_D.zero_grad()\n",
    "\n",
    "        # Measure discriminator's ability to classify real from generated samples\n",
    "        real_loss = adversarial_loss(discriminator(masked_parts), valid)\n",
    "        fake_loss = adversarial_loss(discriminator(gen_parts.detach()), fake)\n",
    "        d_loss = 0.5 * (real_loss + fake_loss)\n",
    "\n",
    "        d_loss.backward()\n",
    "        optimizer_D.step()\n",
    "        \n",
    "\n",
    "        \n",
    "        gen_adv_loss += g_adv.item()\n",
    "        gen_pixel_loss += g_pixel.item()\n",
    "        disc_loss += d_loss.item()\n",
    "        gen_loss += g_loss.item()\n",
    "        tqdm_bar.set_postfix(gen_adv_loss=gen_adv_loss/(i+1), gen_pixel_loss=gen_pixel_loss/(i+1), disc_loss=disc_loss/(i+1))\n",
    "        if i % 50 == 49:\n",
    "            writer.add_scalar('generator loss',\n",
    "                            gen_loss/(i+1),\n",
    "                            epoch * len(dataloader) + i)\n",
    "        \n",
    "            writer.add_scalar('descremenator loss',\n",
    "                            disc_loss/(i+1),\n",
    "                            epoch * len(dataloader) + i)\n",
    "        \n",
    "         \n",
    "    torch.save(generator.state_dict(), \"saved_models/generator.pth\")\n",
    "    torch.save(discriminator.state_dict(), \"saved_models/discriminator.pth\")\n",
    "writer.close()  "
   ]
  },
  {
   "cell_type": "code",
   "execution_count": null,
   "metadata": {},
   "outputs": [],
   "source": []
  },
  {
   "cell_type": "code",
   "execution_count": null,
   "metadata": {},
   "outputs": [],
   "source": []
  }
 ],
 "metadata": {
  "kernelspec": {
   "display_name": "Python 3 (ipykernel)",
   "language": "python",
   "name": "python3"
  },
  "language_info": {
   "codemirror_mode": {
    "name": "ipython",
    "version": 3
   },
   "file_extension": ".py",
   "mimetype": "text/x-python",
   "name": "python",
   "nbconvert_exporter": "python",
   "pygments_lexer": "ipython3",
   "version": "3.8.10"
  }
 },
 "nbformat": 4,
 "nbformat_minor": 4
}
